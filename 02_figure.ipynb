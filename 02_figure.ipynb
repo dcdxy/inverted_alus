{
 "cells": [
  {
   "cell_type": "markdown",
   "metadata": {},
   "source": [
    "# Figure 2"
   ]
  },
  {
   "cell_type": "markdown",
   "metadata": {},
   "source": [
    "### Danielle Denisko"
   ]
  },
  {
   "cell_type": "code",
   "execution_count": 1,
   "metadata": {},
   "outputs": [],
   "source": [
    "import os\n",
    "from IPython.display import Image\n",
    "import pandas as pd\n",
    "from importlib import reload\n",
    "import matplotlib.pyplot as plt\n",
    "import matplotlib.ticker as ticker\n",
    "import seaborn as sns\n",
    "from matplotlib_venn import venn2,venn3\n",
    "from scipy.stats.contingency import odds_ratio\n",
    "from scipy.stats import ks_2samp, ttest_ind, combine_pvalues\n",
    "from statsmodels.stats.multitest import multipletests\n",
    "from itertools import combinations\n",
    "import numpy as np\n",
    "import zepid\n",
    "import pyranges as pr\n",
    "from pybedtools import BedTool\n",
    "\n",
    "from generate_enrichment_plots import *\n",
    "from generate_exon_alu_df import *\n",
    "from io_utils import *\n",
    "from general_plots import *\n",
    "from alu_exon_characterization import *\n",
    "from mfe import *\n",
    "from statistics_test import *\n",
    "\n",
    "import warnings\n",
    "warnings.simplefilter(action='ignore', category=FutureWarning)\n",
    "warnings.simplefilter(action='ignore', category=pd.errors.PerformanceWarning)\n",
    "\n",
    "from io_utils import MyMagic\n",
    "from IPython import get_ipython\n",
    "\n",
    "ipy = get_ipython()\n",
    "ipy.register_magics(MyMagic)"
   ]
  },
  {
   "cell_type": "markdown",
   "metadata": {},
   "source": [
    "#### Paths"
   ]
  },
  {
   "cell_type": "code",
   "execution_count": 2,
   "metadata": {},
   "outputs": [],
   "source": [
    "data_dir                          = \"../\"\n",
    "hexevent_dir                      = os.path.join(data_dir, \"iralu/\")\n",
    "pickle_dir                        = os.path.join(data_dir, \"pickles/\")\n",
    "image_dir                         = os.path.join(data_dir, \"images\")\n",
    "dataset_dir                       = os.path.join(data_dir, \"datasets/\")\n",
    "\n",
    "ascot_psi_csv                     = os.path.join(hexevent_dir, \"gtex_psi.csv\")\n",
    "ascot_psi_df                      = pd.read_csv(ascot_psi_csv)\n",
    "tissue_psi_cols                   = list(ascot_psi_df.columns)[12:68]  # 56 tissues\n",
    "non_tissue_cols                   = set(list(ascot_psi_df.columns)) - set(tissue_psi_cols)\n",
    "\n",
    "maxentscan_3ss_all_mfe            = open_pickle_enrich_dct('maxentscan_3ss_all_mfe_240916.pkl', pickle_dir)  # 240531\n",
    "maxentscan_5ss_all_mfe            = open_pickle_enrich_dct('maxentscan_5ss_all_mfe_240916.pkl', pickle_dir)  # 240531\n",
    "\n",
    "rediportal_bed = BedTool(os.path.join(dataset_dir, \"TABLE1_hg38-rediportal.bed\"))\n",
    "xstreme_dir    = os.path.join(dataset_dir, \"xstreme\")\n",
    "#ref_fasta      = \"/reference_databases/ReferenceGenome/GRCh38/GRCh38_reference_genome/GRCh38_full_analysis_set_plus_decoy_hla.fa\""
   ]
  },
  {
   "cell_type": "code",
   "execution_count": 3,
   "metadata": {},
   "outputs": [],
   "source": [
    "windows_subset_1000 = open_pickle_enrich_dct('240221-test_windows_subset_1000.pkl', pickle_dir)\n",
    "windows_subset_2000 = open_pickle_enrich_dct('240221-test_windows_subset_2000.pkl', pickle_dir)\n",
    "windows_subset_5000 = open_pickle_enrich_dct('240221-test_windows_subset_5000.pkl', pickle_dir)"
   ]
  },
  {
   "cell_type": "code",
   "execution_count": 4,
   "metadata": {},
   "outputs": [],
   "source": [
    "bed_cols_fasta = [\"exon_chr\", \"upstream_alu_start\", \"downstream_alu_end\", \"names\", \"score\", \"exon_strand\"]\n",
    "bed_dir        = os.path.join(dataset_dir, \"bed_dir\")\n",
    "\n",
    "def add_names_col_mfe(df, w, df_name):\n",
    "    \"\"\" Add a column that will be used as an identifier to rejoin the MFE results to the original dataframes.\n",
    "\n",
    "    Originally, only contained (df['upstream_alu_subfamily'] + df['upstream_alu_strand']  + \\\n",
    "            ':' + df['downstream_alu_subfamily'] + df['downstream_alu_strand'])\n",
    "    but have since added indices of the original dataframes.\n",
    "\n",
    "    Pickle these original dataframes in the same dirs as the output beds, so we can rejoin them more easily.\n",
    "    \"\"\"\n",
    "    return (df['upstream_alu_subfamily'] + df['upstream_alu_strand']  + \\\n",
    "            \":\" + df['downstream_alu_subfamily'] + df['downstream_alu_strand'] + \\\n",
    "            \":\" + df[\"index\"].apply(str) + \\\n",
    "            \":\" + w + \\\n",
    "            \":\" + df_name)\n",
    "\n",
    "\n",
    "bed_dfs_dct      = {}\n",
    "w_list           = [\"5kb\", \"1kb\", \"2kb\"]\n",
    "w_dcts           = [windows_subset_5000, windows_subset_1000, windows_subset_2000]\n",
    "df_names_extract = [\"skippable\", \"constitutive\", \n",
    "                    \"skippable_inverted\", \"constitutive_inverted\", \n",
    "                    \"skippable_noninverted\", \"constitutive_noninverted\"]\n",
    "\n",
    "# Uncomment this section to write out to BED files\n",
    "for w, w_dct in zip(w_list, w_dcts):\n",
    "    bed_dfs_dct[w] = {}\n",
    "    #pickle_enrich_dct(w_dct, f\"{w}-dct.pkl\", bed_dir)\n",
    "    for df_name in df_names_extract:\n",
    "        bed_dfs_dct[w][df_name] = w_dct[df_name].reset_index().copy()\n",
    "        bed_dfs_dct[w][df_name][\"names\"] = add_names_col_mfe(df=bed_dfs_dct[w][df_name], w=w, df_name=df_name)\n",
    "        bed_dfs_dct[w][df_name][\"score\"] = 1\n",
    "#        bed_dfs_dct[w][df_name][bed_cols_fasta].to_csv(os.path.join(bed_dir, f\"{w}-{df_name}.bed\"), sep='\\t', header=False, index=False)"
   ]
  },
  {
   "cell_type": "code",
   "execution_count": 5,
   "metadata": {},
   "outputs": [
    {
     "name": "stdout",
     "output_type": "stream",
     "text": [
      "w=1kb; df_name=skippable_inverted\n",
      "13443 == 13443\n",
      "w=1kb; df_name=constitutive_inverted\n",
      "9176 == 9176\n",
      "w=1kb; df_name=skippable_noninverted\n",
      "15177 == 15177\n",
      "w=1kb; df_name=constitutive_noninverted\n",
      "12095 == 12095\n",
      "w=2kb; df_name=skippable_inverted\n",
      "43095 == 43090\n",
      "^the above lengths do not match\n",
      "w=2kb; df_name=constitutive_inverted\n",
      "28991 == 28991\n",
      "w=2kb; df_name=skippable_noninverted\n",
      "47585 == 47582\n",
      "^the above lengths do not match\n",
      "w=2kb; df_name=constitutive_noninverted\n",
      "34953 == 34863\n",
      "^the above lengths do not match\n",
      "w=5kb; df_name=skippable_inverted\n",
      "167447 == 167076\n",
      "^the above lengths do not match\n",
      "w=5kb; df_name=constitutive_inverted\n",
      "109467 == 109375\n",
      "^the above lengths do not match\n",
      "w=5kb; df_name=skippable_noninverted\n",
      "183671 == 183217\n",
      "^the above lengths do not match\n",
      "w=5kb; df_name=constitutive_noninverted\n",
      "123026 == 122730\n",
      "^the above lengths do not match\n"
     ]
    }
   ],
   "source": [
    "mfe_dir               = os.path.join(bed_dir, \"mfe_summary\")\n",
    "\n",
    "w_open_dct            = {}\n",
    "w_open_list           = [\"1kb\", \"2kb\", \"5kb\"]\n",
    "df_names_open         = [\"skippable_inverted\",    \"constitutive_inverted\", \n",
    "                         \"skippable_noninverted\", \"constitutive_noninverted\"]\n",
    "\n",
    "for w in w_open_list:\n",
    "    w_open_dct[w]  = {}\n",
    "    # open original dct of dfs (those that were used for generating BEDs)\n",
    "    w_original_dct = open_pickle_enrich_dct(f\"{w}-dct.pkl\", bed_dir) #[\"constitutive\"]\n",
    "    \n",
    "    for df_name in df_names_open:\n",
    "        print(f\"w={w}; df_name={df_name}\")\n",
    "        # open MFE results\n",
    "        dir_df = open_pickle_enrich_dct(f\"{w}-{df_name}-dir-df.pickle\", mfe_dir)\n",
    "        dir_df[\"index\"] = dir_df[\"index\"].astype(int)\n",
    "        dir_df.sort_values(by=\"index\", ascending=True, inplace=True)\n",
    "\n",
    "        # w_original_dct[df_name] and dir_df should be 1-to-1\n",
    "        print(f\"{len(w_original_dct[df_name])} == {len(dir_df)}\")\n",
    "        #assert len(w_original_dct[df_name]) == len(dir_df)\n",
    "        if len(w_original_dct[df_name]) != len(dir_df):\n",
    "            print(f\"^the above lengths do not match\")\n",
    "\n",
    "        # merge the two dataframes and return as a dictionary entry\n",
    "        w_original_df = w_original_dct[df_name].reset_index()\n",
    "        w_original_df[\"index\"]              = w_original_df[\"index\"].astype(\"int64\")\n",
    "        w_original_df[\"upstream_alu_start\"] = w_original_df[\"upstream_alu_start\"].astype(\"int64\")\n",
    "\n",
    "        dir_df[\"index\"]                     = dir_df[\"index\"].astype(\"int64\")\n",
    "        dir_df[\"alu1_start\"]                = dir_df[\"alu1_start\"].astype(\"int64\")\n",
    "        \n",
    "        #w_open_dct[w][df_name] = w_original_dct[df_name].reset_index().merge(dir_df, on=\"index\", how=\"inner\")\n",
    "        w_open_dct[w][df_name] = (\n",
    "            w_original_df\n",
    "            .merge(dir_df, \n",
    "                   left_on=[\"index\", \"exon_chr\", \"upstream_alu_start\"], \n",
    "                   right_on=[\"index\", \"chr\", \"alu1_start\"], \n",
    "                   how=\"inner\")\n",
    "        )"
   ]
  },
  {
   "cell_type": "code",
   "execution_count": 6,
   "metadata": {},
   "outputs": [
    {
     "name": "stdout",
     "output_type": "stream",
     "text": [
      "0.21%\n",
      "0.14%\n",
      "0.15%\n",
      "0.13%\n",
      "0.14%\n"
     ]
    }
   ],
   "source": [
    "def perc_failed(frac_success):\n",
    "    print(f\"{(1-frac_success)*100:.2f}%\")\n",
    "    return\n",
    "\n",
    "perc_failed(47485/47585)\n",
    "perc_failed(167205/167447)\n",
    "perc_failed(109308/109467)\n",
    "perc_failed(183431/183671)\n",
    "perc_failed(122849/123026)"
   ]
  },
  {
   "cell_type": "code",
   "execution_count": 7,
   "metadata": {},
   "outputs": [
    {
     "name": "stdout",
     "output_type": "stream",
     "text": [
      "random; w=1kb; df_name=skippable_inverted\n",
      "13443 == 13411\n",
      "^the above lengths do not match\n",
      "random; w=1kb; df_name=constitutive_inverted\n",
      "9176 == 9176\n",
      "random; w=1kb; df_name=skippable_noninverted\n",
      "15177 == 15177\n",
      "random; w=1kb; df_name=constitutive_noninverted\n",
      "12095 == 12095\n"
     ]
    }
   ],
   "source": [
    "bed_random_dir        = os.path.join(dataset_dir, \"bed_random_dir\")\n",
    "mfe_random_dir        = os.path.join(bed_random_dir, \"random_sets/\", \"mfe_summary\")\n",
    "\n",
    "w_open_dct_random            = {}\n",
    "w_open_list_random           = [\"1kb\"]\n",
    "df_names_open_random         = [\"skippable_inverted\", \"constitutive_inverted\", \n",
    "                                \"skippable_noninverted\", \"constitutive_noninverted\"]\n",
    "\n",
    "for w in w_open_list_random:\n",
    "    w_open_dct_random[w]  = {}\n",
    "    # open original dct of dfs (those that were used for generating BEDs)\n",
    "    w_original_dct = open_pickle_enrich_dct(f\"{w}-dct.pkl\", bed_random_dir)\n",
    "    \n",
    "    for df_name in df_names_open_random:\n",
    "        print(f\"random; w={w}; df_name={df_name}\")\n",
    "        # open MFE results\n",
    "        dir_df = open_pickle_enrich_dct(f\"random-{w}-{df_name}-dir-df.pickle\", mfe_random_dir)\n",
    "        dir_df[\"index\"] = dir_df[\"index\"].astype(int)\n",
    "        dir_df.sort_values(by=\"index\", ascending=True, inplace=True)\n",
    "\n",
    "        # w_original_dct[df_name] and dir_df should be 1-to-1\n",
    "        print(f\"{len(w_original_dct[df_name])} == {len(dir_df)}\")\n",
    "        #assert len(w_original_dct[df_name]) == len(dir_df)\n",
    "        if len(w_original_dct[df_name]) != len(dir_df):\n",
    "            print(f\"^the above lengths do not match\")\n",
    "\n",
    "        w_original_df = w_original_dct[df_name].reset_index()\n",
    "\n",
    "        # merge the two dataframes and return as a dictionary entry\n",
    "        w_open_dct_random[w][df_name] = w_original_dct[df_name].reset_index().merge(dir_df, on=\"index\", how=\"inner\")\n",
    "        #w_open_dct_random[w][df_name] = pd.concat([w_original_df, dir_df], axis=0, ignore_index=True)"
   ]
  },
  {
   "cell_type": "code",
   "execution_count": 8,
   "metadata": {},
   "outputs": [
    {
     "name": "stdout",
     "output_type": "stream",
     "text": [
      "0.24%\n"
     ]
    }
   ],
   "source": [
    "perc_failed(13411/13443)"
   ]
  },
  {
   "cell_type": "code",
   "execution_count": 9,
   "metadata": {},
   "outputs": [
    {
     "name": "stdout",
     "output_type": "stream",
     "text": [
      "Total processed: 49891\n",
      "Total skippable: 28620\n",
      "Skippable inverted: 13443\n",
      "Skippable non-inverted: 15177\n",
      "Total constitutive:: 21271\n",
      "Total inverted: 22619\n",
      "Total non-inverted: 27272\n"
     ]
    }
   ],
   "source": [
    "print(\"Total processed:\", \n",
    "len(w_open_dct[\"1kb\"][\"skippable_inverted\"]) + \\\n",
    "    len(w_open_dct[\"1kb\"][\"skippable_noninverted\"]) + \\\n",
    "        len(w_open_dct[\"1kb\"][\"constitutive_inverted\"]) + \\\n",
    "            len(w_open_dct[\"1kb\"][\"constitutive_noninverted\"]))\n",
    "print(\"Total skippable:\", len(w_open_dct[\"1kb\"][\"skippable_inverted\"]) + len(w_open_dct[\"1kb\"][\"skippable_noninverted\"]))\n",
    "print(\"Skippable inverted:\",len(w_open_dct[\"1kb\"][\"skippable_inverted\"]))\n",
    "print(\"Skippable non-inverted:\",len(w_open_dct[\"1kb\"][\"skippable_noninverted\"]))\n",
    "print(\"Total constitutive::\",len(w_open_dct[\"1kb\"][\"constitutive_inverted\"]) + len(w_open_dct[\"1kb\"][\"constitutive_noninverted\"]))\n",
    "print(\"Total inverted:\", len(w_open_dct[\"1kb\"][\"skippable_inverted\"]) + len(w_open_dct[\"1kb\"][\"constitutive_inverted\"]))\n",
    "print(\"Total non-inverted:\", len(w_open_dct[\"1kb\"][\"skippable_noninverted\"]) + len(w_open_dct[\"1kb\"][\"constitutive_noninverted\"]))"
   ]
  },
  {
   "cell_type": "code",
   "execution_count": 10,
   "metadata": {},
   "outputs": [
    {
     "name": "stdout",
     "output_type": "stream",
     "text": [
      "13443\n",
      "15177\n",
      "9176\n",
      "12095\n"
     ]
    }
   ],
   "source": [
    "print(len(w_open_dct[\"1kb\"][\"skippable_inverted\"]))\n",
    "print(len(w_open_dct[\"1kb\"][\"skippable_noninverted\"]))\n",
    "print(len(w_open_dct[\"1kb\"][\"constitutive_inverted\"]))\n",
    "print(len(w_open_dct[\"1kb\"][\"constitutive_noninverted\"]))"
   ]
  },
  {
   "cell_type": "code",
   "execution_count": 11,
   "metadata": {},
   "outputs": [
    {
     "name": "stdout",
     "output_type": "stream",
     "text": [
      "7033\n",
      "7694\n",
      "5318\n",
      "6842\n"
     ]
    }
   ],
   "source": [
    "print(len(groupby_exons(w_open_dct[\"1kb\"][\"skippable_inverted\"])[\"index\"].rename('Skippable\\ninverted')))\n",
    "print(len(groupby_exons(w_open_dct[\"1kb\"][\"skippable_noninverted\"])[\"index\"].rename('Skippable\\nnon-inverted')))\n",
    "print(len(groupby_exons(w_open_dct[\"1kb\"][\"constitutive_inverted\"])[\"index\"].rename('Constitutive\\ninverted')))\n",
    "print(len(groupby_exons(w_open_dct[\"1kb\"][\"constitutive_noninverted\"])[\"index\"].rename('Constitutive\\nnon-inverted')))"
   ]
  },
  {
   "cell_type": "markdown",
   "metadata": {},
   "source": [
    "#### Figure 2C"
   ]
  },
  {
   "cell_type": "code",
   "execution_count": 12,
   "metadata": {},
   "outputs": [],
   "source": [
    "def replace_with_subscript(text):\n",
    "    \"\"\"Generated by ChatGPT\n",
    "    \"\"\"\n",
    "    parts = text.split(' vs ')\n",
    "    new_parts = []\n",
    "    for part in parts:\n",
    "        subparts = part.split('_')\n",
    "        subscripted_text = f'{subparts[0]}'\n",
    "        for subpart in subparts[1:]:\n",
    "            subscripted_text += f'$_{{\\mathrm{{{subpart}}}}}$'\n",
    "        new_parts.append(subscripted_text)\n",
    "    return ' vs '.join(new_parts)\n",
    "\n",
    "\n",
    "def plot_cohens_d(df, ax=None):\n",
    "    tick_params_width = 0.25\n",
    "    tick_params_length = 1\n",
    "    tick_params_pad = 2\n",
    "    axis_label_pad = 2\n",
    "\n",
    "    fontsize_min = 5\n",
    "    plt.rcParams['font.family'] = 'DejaVu Sans'\n",
    "\n",
    "    blue=\"#0077BB\"\n",
    "    light_blue=\"#86B4CF\"\n",
    "    orange=\"#EE7733\"\n",
    "    light_orange=\"#EEC5AE\"\n",
    "\n",
    "    # customPalette = [blue, light_blue, orange, light_orange]\n",
    "\n",
    "    custom_colour_labels = {replace_with_subscript(\"S vs C\"): \"black\", \n",
    "                            replace_with_subscript(\"Inv vs Non-inv\"): \"black\",\n",
    "                            replace_with_subscript(\"S_inv vs S_non-inv\"): blue,\n",
    "                            replace_with_subscript(\"C_inv vs C_non-inv\"): orange,\n",
    "                            replace_with_subscript(\"S_inv vs C_inv\"): \"black\",\n",
    "                            replace_with_subscript(\"S_non-inv vs C_non-inv\"): \"black\",\n",
    "                            replace_with_subscript(\"S_inv vs Random\"): blue,\n",
    "                            replace_with_subscript(\"S_non-inv vs Random\"): light_blue,\n",
    "                            replace_with_subscript(\"C_inv vs Random\"): orange,\n",
    "                            replace_with_subscript(\"C_non-inv vs Random\"): light_orange}\n",
    "\n",
    "    sns.set_style(\"whitegrid\")\n",
    "    sns.set_theme() #font_scale=1.2\n",
    "    sns.set_style('ticks')\n",
    "\n",
    "    #plt.figure(figsize=(4, 6))  # Adjust figure size as needed\n",
    "\n",
    "    sns.scatterplot(data=df, x='index', y='d', color=\"black\", s=2) \n",
    "\n",
    "    if ax is None:\n",
    "        ax = plt.gca()  \n",
    "    \n",
    "    for tick_label in ax.get_xticklabels():\n",
    "        label_text = tick_label.get_text()\n",
    "        color = custom_colour_labels[label_text]\n",
    "        tick_label.set_color(color)\n",
    "\n",
    "    ax.set_ylim(None, 1)\n",
    "    ticks = np.arange(-2., 1.01, 0.5)  # Adjust range as needed\n",
    "    ax.set_yticks(ticks)\n",
    "\n",
    "    #plt.xticks(rotation=90)  # Rotate x-axis labels for better readability\n",
    "    ax.tick_params(axis='x', rotation=90, labelsize=fontsize_min, \n",
    "                   length=tick_params_length, width=tick_params_width, pad=tick_params_pad)\n",
    "    ax.tick_params(axis='y', labelsize=fontsize_min, \n",
    "                   length=tick_params_length, width=tick_params_width, pad=tick_params_pad)\n",
    "    \n",
    "    ax.set_xlabel(\"\", fontsize=fontsize_min, labelpad=axis_label_pad)\n",
    "    ax.set_ylabel(\"Cohen's d\", fontsize=fontsize_min, labelpad=axis_label_pad)\n",
    "\n",
    "    ax.xaxis.grid(False)\n",
    "    ax.yaxis.grid(True, linewidth=0.25)\n",
    "\n",
    "    for spine in ax.spines.values():\n",
    "        spine.set_linewidth(0.25)"
   ]
  },
  {
   "cell_type": "code",
   "execution_count": 13,
   "metadata": {},
   "outputs": [
    {
     "data": {
      "image/png": "[encoded data removed]",
      "text/plain": [
       "<Figure size 480.123x224.057 with 2 Axes>"
      ]
     },
     "metadata": {},
     "output_type": "display_data"
    }
   ],
   "source": [
    "import mfe\n",
    "import general_plots\n",
    "import statistics_test\n",
    "reload(mfe)\n",
    "reload(general_plots)\n",
    "reload(statistics_test)\n",
    "from mfe import *\n",
    "from general_plots import *\n",
    "from statistics_test import *\n",
    "\n",
    "mm_per_in = 25.4\n",
    "scaling_factor = 1.23\n",
    "target_width_in = (150/scaling_factor) / mm_per_in\n",
    "target_height_in = (70/scaling_factor) /mm_per_in\n",
    "\n",
    "width_ratios = [2, 1]\n",
    "fig, axs = plt.subplots(1, 2, figsize=(target_width_in, target_height_in), #(15,4)\n",
    "                        gridspec_kw={'width_ratios': width_ratios, 'hspace': 0.25, 'wspace': 0.25})\n",
    "\n",
    "w_open_list = [\"1kb\"]\n",
    "cohens_d_dct = {}\n",
    "cohens_d_dct, mfe_dct_1kb = create_mfe_dfs(\"1kb\", cohens_d_dct, w_open_dct, w_open_dct_random, \n",
    "                                           plot=True, print_stats=True, ax=axs[0])\n",
    "\n",
    "mapping = {\"skippable_vs_constitutive\": \"S vs C\", \n",
    "           \"inverted_vs_noninverted\": \"Inv vs Non-inv\",\n",
    "           \"skippable_inverted_vs_skippable_noninverted\": \"S_inv vs S_non-inv\",\n",
    "           \"constitutive_inverted_vs_constitutive_noninverted\": \"C_inv vs C_non-inv\",\n",
    "           \"skippable_inverted_vs_constitutive_inverted\": \"S_inv vs C_inv\",\n",
    "           \"skippable_noninverted_vs_constitutive_noninverted\": \"S_non-inv vs C_non-inv\",\n",
    "           \"skippable_inverted_vs_random\": \"S_inv vs Random\",\n",
    "           \"skippable_noninverted_vs_random\": \"S_non-inv vs Random\",\n",
    "           \"constitutive_inverted_vs_random\": \"C_inv vs Random\",\n",
    "           \"constitutive_noninverted_vs_random\": \"C_non-inv vs Random\"}\n",
    "\n",
    "cohens_d_1kb_df = pd.DataFrame.from_dict(cohens_d_dct[\"1kb\"], orient=\"index\")\n",
    "cohens_d_1kb_df.reset_index(inplace=True)\n",
    "\n",
    "cohens_d_1kb_df['index'] = cohens_d_1kb_df['index'].map(mapping)\n",
    "cohens_d_1kb_df['index'] = cohens_d_1kb_df['index'].apply(replace_with_subscript)\n",
    "\n",
    "plot_cohens_d(cohens_d_1kb_df, ax=axs[1])\n",
    "\n",
    "#plt.savefig(os.path.join(image_dir, \"manuscript\", \"2024-10-23\", \"figure2c_2024-10-23.svg\"), bbox_inches = \"tight\")\n",
    "#plt.savefig(os.path.join(image_dir, \"manuscript\", \"2024-10-23\", \"figure2c_2024-10-23.png\"), dpi=300, bbox_inches = \"tight\")\n",
    "plt.show()"
   ]
  },
  {
   "cell_type": "code",
   "execution_count": 14,
   "metadata": {},
   "outputs": [
    {
     "data": {
      "image/png": "[encoded data removed]",
      "text/plain": [
       "<Figure size 96.0246x128.033 with 1 Axes>"
      ]
     },
     "metadata": {},
     "output_type": "display_data"
    }
   ],
   "source": [
    "mm_per_in = 25.4\n",
    "scaling_factor = 1.23\n",
    "target_width_in = (30/scaling_factor) / mm_per_in\n",
    "target_height_in = (40/scaling_factor) /mm_per_in\n",
    "\n",
    "width_ratios = [1]\n",
    "fig, axs = plt.subplots(1, 1, figsize=(target_width_in, target_height_in),\n",
    "                        gridspec_kw={'width_ratios': width_ratios})\n",
    "\n",
    "mapping = {\"skippable_vs_constitutive\": \"S vs C\", \n",
    "           \"inverted_vs_noninverted\": \"Inv vs Non-inv\",\n",
    "           \"skippable_inverted_vs_skippable_noninverted\": \"S_inv vs S_non-inv\",\n",
    "           \"constitutive_inverted_vs_constitutive_noninverted\": \"C_inv vs C_non-inv\",\n",
    "           \"skippable_inverted_vs_constitutive_inverted\": \"S_inv vs C_inv\",\n",
    "           \"skippable_noninverted_vs_constitutive_noninverted\": \"S_non-inv vs C_non-inv\",\n",
    "           \"skippable_inverted_vs_random\": \"S_inv vs Random\",\n",
    "           \"skippable_noninverted_vs_random\": \"S_non-inv vs Random\",\n",
    "           \"constitutive_inverted_vs_random\": \"C_inv vs Random\",\n",
    "           \"constitutive_noninverted_vs_random\": \"C_non-inv vs Random\"}\n",
    "\n",
    "cohens_d_1kb_df = pd.DataFrame.from_dict(cohens_d_dct[\"1kb\"], orient=\"index\")\n",
    "cohens_d_1kb_df.reset_index(inplace=True)\n",
    "\n",
    "cohens_d_1kb_df['index'] = cohens_d_1kb_df['index'].map(mapping)\n",
    "cohens_d_1kb_df['index'] = cohens_d_1kb_df['index'].apply(replace_with_subscript)\n",
    "\n",
    "plot_cohens_d(cohens_d_1kb_df, ax=axs)\n",
    "\n",
    "#plt.savefig(os.path.join(image_dir, \"manuscript\", \"2024-10-23\", \"figure2c-cohensd_2024-10-23.svg\"), bbox_inches = \"tight\")\n",
    "#plt.savefig(os.path.join(image_dir, \"manuscript\", \"2024-10-23\", \"figure2c-cohensd_2024-10-23.png\"), dpi=300, bbox_inches = \"tight\")\n",
    "plt.show()"
   ]
  },
  {
   "cell_type": "code",
   "execution_count": 15,
   "metadata": {},
   "outputs": [
    {
     "data": {
      "text/html": [
       "<div>\n",
       "<style scoped>\n",
       "    .dataframe tbody tr th:only-of-type {\n",
       "        vertical-align: middle;\n",
       "    }\n",
       "\n",
       "    .dataframe tbody tr th {\n",
       "        vertical-align: top;\n",
       "    }\n",
       "\n",
       "    .dataframe thead th {\n",
       "        text-align: right;\n",
       "    }\n",
       "</style>\n",
       "<table border=\"1\" class=\"dataframe\">\n",
       "  <thead>\n",
       "    <tr style=\"text-align: right;\">\n",
       "      <th></th>\n",
       "      <th>index</th>\n",
       "      <th>t</th>\n",
       "      <th>z</th>\n",
       "      <th>d</th>\n",
       "    </tr>\n",
       "  </thead>\n",
       "  <tbody>\n",
       "    <tr>\n",
       "      <th>0</th>\n",
       "      <td>S vs C</td>\n",
       "      <td>(-16.41775258485042, 1.05554820415277e-60)</td>\n",
       "      <td>(-16.340605693285088, 2.537313917941293e-60)</td>\n",
       "      <td>-0.147928</td>\n",
       "    </tr>\n",
       "    <tr>\n",
       "      <th>1</th>\n",
       "      <td>Inv vs Non-inv</td>\n",
       "      <td>(-138.11481285830715, 0.0)</td>\n",
       "      <td>(-139.11217429666937, 0.0)</td>\n",
       "      <td>-1.251068</td>\n",
       "    </tr>\n",
       "    <tr>\n",
       "      <th>2</th>\n",
       "      <td>S$_{\\mathrm{inv}}$ vs S$_{\\mathrm{non-inv}}$</td>\n",
       "      <td>(-103.22307444355076, 0.0)</td>\n",
       "      <td>(-103.51724021698872, 0.0)</td>\n",
       "      <td>-1.226045</td>\n",
       "    </tr>\n",
       "    <tr>\n",
       "      <th>3</th>\n",
       "      <td>C$_{\\mathrm{inv}}$ vs C$_{\\mathrm{non-inv}}$</td>\n",
       "      <td>(-91.04875209847184, 0.0)</td>\n",
       "      <td>(-92.54254179259651, 0.0)</td>\n",
       "      <td>-1.281167</td>\n",
       "    </tr>\n",
       "    <tr>\n",
       "      <th>4</th>\n",
       "      <td>S$_{\\mathrm{inv}}$ vs C$_{\\mathrm{inv}}$</td>\n",
       "      <td>(-8.865831062637879, 4.1131083401577034e-19)</td>\n",
       "      <td>(-8.862009417131159, 3.9292479740811797e-19)</td>\n",
       "      <td>-0.120004</td>\n",
       "    </tr>\n",
       "    <tr>\n",
       "      <th>5</th>\n",
       "      <td>S$_{\\mathrm{non-inv}}$ vs C$_{\\mathrm{non-inv}}$</td>\n",
       "      <td>(-10.927788044224954, 4.8611633863366495e-28)</td>\n",
       "      <td>(-10.836440472974175, 1.1564808348519239e-27)</td>\n",
       "      <td>-0.132084</td>\n",
       "    </tr>\n",
       "    <tr>\n",
       "      <th>6</th>\n",
       "      <td>S$_{\\mathrm{inv}}$ vs Random</td>\n",
       "      <td>(-174.9109999609364, 0.0)</td>\n",
       "      <td>(-174.31415913004335, 0.0)</td>\n",
       "      <td>-2.184616</td>\n",
       "    </tr>\n",
       "    <tr>\n",
       "      <th>7</th>\n",
       "      <td>S$_{\\mathrm{non-inv}}$ vs Random</td>\n",
       "      <td>(-80.26235271998249, 0.0)</td>\n",
       "      <td>(-80.10069680582384, 0.0)</td>\n",
       "      <td>-0.976335</td>\n",
       "    </tr>\n",
       "    <tr>\n",
       "      <th>8</th>\n",
       "      <td>C$_{\\mathrm{inv}}$ vs Random</td>\n",
       "      <td>(-148.68000611503618, 0.0)</td>\n",
       "      <td>(-149.96031416029888, 0.0)</td>\n",
       "      <td>-2.076064</td>\n",
       "    </tr>\n",
       "    <tr>\n",
       "      <th>9</th>\n",
       "      <td>C$_{\\mathrm{non-inv}}$ vs Random</td>\n",
       "      <td>(-68.41297873727011, 0.0)</td>\n",
       "      <td>(-68.41297873727011, 0.0)</td>\n",
       "      <td>-0.879732</td>\n",
       "    </tr>\n",
       "  </tbody>\n",
       "</table>\n",
       "</div>"
      ],
      "text/plain": [
       "                                              index  \\\n",
       "0                                            S vs C   \n",
       "1                                    Inv vs Non-inv   \n",
       "2      S$_{\\mathrm{inv}}$ vs S$_{\\mathrm{non-inv}}$   \n",
       "3      C$_{\\mathrm{inv}}$ vs C$_{\\mathrm{non-inv}}$   \n",
       "4          S$_{\\mathrm{inv}}$ vs C$_{\\mathrm{inv}}$   \n",
       "5  S$_{\\mathrm{non-inv}}$ vs C$_{\\mathrm{non-inv}}$   \n",
       "6                      S$_{\\mathrm{inv}}$ vs Random   \n",
       "7                  S$_{\\mathrm{non-inv}}$ vs Random   \n",
       "8                      C$_{\\mathrm{inv}}$ vs Random   \n",
       "9                  C$_{\\mathrm{non-inv}}$ vs Random   \n",
       "\n",
       "                                               t  \\\n",
       "0     (-16.41775258485042, 1.05554820415277e-60)   \n",
       "1                     (-138.11481285830715, 0.0)   \n",
       "2                     (-103.22307444355076, 0.0)   \n",
       "3                      (-91.04875209847184, 0.0)   \n",
       "4   (-8.865831062637879, 4.1131083401577034e-19)   \n",
       "5  (-10.927788044224954, 4.8611633863366495e-28)   \n",
       "6                      (-174.9109999609364, 0.0)   \n",
       "7                      (-80.26235271998249, 0.0)   \n",
       "8                     (-148.68000611503618, 0.0)   \n",
       "9                      (-68.41297873727011, 0.0)   \n",
       "\n",
       "                                               z         d  \n",
       "0   (-16.340605693285088, 2.537313917941293e-60) -0.147928  \n",
       "1                     (-139.11217429666937, 0.0) -1.251068  \n",
       "2                     (-103.51724021698872, 0.0) -1.226045  \n",
       "3                      (-92.54254179259651, 0.0) -1.281167  \n",
       "4   (-8.862009417131159, 3.9292479740811797e-19) -0.120004  \n",
       "5  (-10.836440472974175, 1.1564808348519239e-27) -0.132084  \n",
       "6                     (-174.31415913004335, 0.0) -2.184616  \n",
       "7                      (-80.10069680582384, 0.0) -0.976335  \n",
       "8                     (-149.96031416029888, 0.0) -2.076064  \n",
       "9                      (-68.41297873727011, 0.0) -0.879732  "
      ]
     },
     "execution_count": 15,
     "metadata": {},
     "output_type": "execute_result"
    }
   ],
   "source": [
    "cohens_d_1kb_df"
   ]
  },
  {
   "cell_type": "markdown",
   "metadata": {},
   "source": [
    "#### Figure 2B"
   ]
  },
  {
   "cell_type": "code",
   "execution_count": 16,
   "metadata": {},
   "outputs": [],
   "source": [
    "df_skip = mfe_dct_1kb[\"df_skip\"]\n",
    "df_const = mfe_dct_1kb[\"df_const\"]\n",
    "\n",
    "df_skip[\"exon_type\"] = \"skippable\"\n",
    "df_const[\"exon_type\"] = \"constitutive\"\n",
    "\n",
    "df_all = pd.concat([df_skip, df_const], ignore_index=True)\n",
    "df_all[\"exon_length\"] = df_all[\"exon_end\"] - df_all[\"exon_start\"]"
   ]
  },
  {
   "cell_type": "code",
   "execution_count": 17,
   "metadata": {},
   "outputs": [
    {
     "data": {
      "image/png": "[encoded data removed]",
      "text/plain": [
       "<Figure size 384.098x160.041 with 2 Axes>"
      ]
     },
     "metadata": {},
     "output_type": "display_data"
    }
   ],
   "source": [
    "import general_plots\n",
    "reload(general_plots)\n",
    "from general_plots import *\n",
    "\n",
    "mm_per_in = 25.4\n",
    "scaling_factor = 1.23\n",
    "\n",
    "target_width_in = (120/scaling_factor) / mm_per_in\n",
    "target_height_in = (50/scaling_factor) /mm_per_in\n",
    "\n",
    "width_ratios = [1, 1]\n",
    "fig, axs = plt.subplots(1, 2, figsize=(target_width_in, target_height_in), #(15,4)\n",
    "                        gridspec_kw={'width_ratios': width_ratios, 'hspace': 0.25, 'wspace': 0.3})\n",
    "\n",
    "generate_mfe_raw_plot(df_all, legend=True, ax=axs[0])\n",
    "generate_mfe_corrected_plot(df_all, legend=False, ax=axs[1])\n",
    "\n",
    "#plt.savefig(os.path.join(image_dir, \"manuscript\", \"2024-10-23\", \"figure2b_2024-10-23.svg\"), bbox_inches = \"tight\")\n",
    "#plt.savefig(os.path.join(image_dir, \"manuscript\", \"2024-10-23\", \"figure2b_2024-10-23.png\"), dpi=300, bbox_inches = \"tight\")\n",
    "plt.show()"
   ]
  },
  {
   "cell_type": "markdown",
   "metadata": {},
   "source": [
    "#### Figure S2A"
   ]
  },
  {
   "cell_type": "code",
   "execution_count": 18,
   "metadata": {},
   "outputs": [
    {
     "name": "stdout",
     "output_type": "stream",
     "text": [
      "2kb:\n",
      "5kb:\n"
     ]
    },
    {
     "data": {
      "image/png": "[encoded data removed]",
      "text/plain": [
       "<Figure size 640.164x160.041 with 2 Axes>"
      ]
     },
     "metadata": {},
     "output_type": "display_data"
    }
   ],
   "source": [
    "import mfe\n",
    "import general_plots\n",
    "reload(mfe)\n",
    "reload(general_plots)\n",
    "from mfe import *\n",
    "from general_plots import *\n",
    "\n",
    "mm_per_in = 25.4\n",
    "scaling_factor = 1.23\n",
    "\n",
    "target_width_in = (200/scaling_factor) / mm_per_in\n",
    "target_height_in = (50/scaling_factor) /mm_per_in\n",
    "\n",
    "width_ratios = [1, 1]\n",
    "fig, axs = plt.subplots(1, 2, figsize=(target_width_in, target_height_in), #(16,6)\n",
    "                        gridspec_kw={'width_ratios': width_ratios, 'hspace': 0.25, 'wspace': 0.3}) #wspace:0.2\n",
    "\n",
    "cohens_d_dct_2kb, mfe_dct_2kb = create_mfe_dfs_suppl(\"2kb\", w_open_dct, ax=axs[0], \n",
    "                                                     plot=True, print_stats=False, legend=True)\n",
    "cohens_d_dct_5kb, mfe_dct_5kb = create_mfe_dfs_suppl(\"5kb\", w_open_dct, ax=axs[1], \n",
    "                                                     plot=True, print_stats=False, legend=False)\n",
    "\n",
    "#plt.savefig(os.path.join(image_dir, \"manuscript\", \"2024-10-23\", \"figureS2a_2024-10-23.svg\"), bbox_inches = \"tight\")\n",
    "#plt.savefig(os.path.join(image_dir, \"manuscript\", \"2024-10-23\", \"figureS2a_2024-10-23.png\"), dpi=300, bbox_inches = \"tight\")\n",
    "plt.show()"
   ]
  },
  {
   "cell_type": "markdown",
   "metadata": {},
   "source": [
    "#### Figure 2D"
   ]
  },
  {
   "cell_type": "code",
   "execution_count": 19,
   "metadata": {},
   "outputs": [],
   "source": [
    "pd.set_option('display.max_columns', None)"
   ]
  },
  {
   "cell_type": "code",
   "execution_count": 20,
   "metadata": {},
   "outputs": [],
   "source": [
    "# Split exon_boundary into 3 separate columns\n",
    "ascot_psi_df[[\"exon_boundary_chr\", \"exon_boundary_pos\"]] = (ascot_psi_df[\"exon_boundary\"]\n",
    "                                                            .str.split(\":\", expand=True))\n",
    "ascot_psi_df[[\"exon_boundary_start\", \"exon_boundary_end\"]] = (ascot_psi_df[\"exon_boundary_pos\"]\n",
    "                                                              .str.split(\"-\", expand=True))\n",
    "\n",
    "# Choose cassette exons only (remove other AS types)\n",
    "ascot_psi_numeric_cols = [\"exon_boundary_start\", \"exon_boundary_end\", \"exon_length\"]\n",
    "ascot_psi_df_cassette = ascot_psi_df[ascot_psi_df[\"cassette_exon\"] == \"Yes\"].copy()\n",
    "ascot_psi_df_cassette[ascot_psi_numeric_cols] = (\n",
    "    ascot_psi_df_cassette[ascot_psi_numeric_cols].apply(pd.to_numeric)\n",
    ")\n",
    "\n",
    "# I filtered on cassette here, since we don't care about other AS events\n",
    "ascot_psi_df_prexonboundary = (\n",
    "    pr.PyRanges(ascot_psi_df_cassette.rename(columns={\"exon_boundary_chr\": \"Chromosome\",\n",
    "                                             \"exon_boundary_start\": \"Start\",\n",
    "                                             \"exon_boundary_end\": \"End\",\n",
    "                                             \"exon_strand\": \"Strand\"}\n",
    "                                   )\n",
    "               )\n",
    ")"
   ]
  },
  {
   "cell_type": "code",
   "execution_count": 21,
   "metadata": {},
   "outputs": [],
   "source": [
    "bed6_cols                 = ['chr', 'start', 'end', 'gene', 'score', 'strand']\n",
    "\n",
    "mfe_all_ascot_prexonboundary_s10 = (\n",
    "    pr.PyRanges(df_all\n",
    "                .dropna(subset=[\"exon_{}\".format(i) for i in bed6_cols], how=\"all\")\n",
    "                .rename(columns={\"exon_chr\": \"Chromosome\",\n",
    "                                 \"exon_start\": \"Start\",\n",
    "                                 \"exon_end\": \"End\",\n",
    "                                 \"exon_strand\": \"Strand\"})\n",
    "                )\n",
    "    .join(ascot_psi_df_prexonboundary, slack=10, report_overlap=True)\n",
    ")\n",
    "\n",
    "# We continue with slack=10 exon boundary dfs\n",
    "# Force exon lengths to be the same between both merged dfs\n",
    "mfe_all_ascot_prexonboundary_s10 = mfe_all_ascot_prexonboundary_s10.as_df()\n",
    "mfe_all_ascot_prexonboundary_s10 = mfe_all_ascot_prexonboundary_s10[mfe_all_ascot_prexonboundary_s10[\"exon_length\"] == mfe_all_ascot_prexonboundary_s10[\"exon_length_b\"]]\n",
    "\n",
    "# Replace all \"-1\" entries from the ASCOT db with np.NaN (since they indicate missing values)\n",
    "mfe_all_ascot_prexonboundary_s10[tissue_psi_cols] = (\n",
    "    mfe_all_ascot_prexonboundary_s10[tissue_psi_cols].replace({-1: np.NaN})\n",
    ")\n",
    "\n",
    "# Calculate min, max, mean, median, and interquartile range (IQR)\n",
    "mfe_all_ascot_prexonboundary_s10[\"tissue_psi_mean\"] = mfe_all_ascot_prexonboundary_s10[tissue_psi_cols].mean(axis=1)\n",
    "mfe_all_ascot_prexonboundary_s10[\"tissue_psi_max\"] = mfe_all_ascot_prexonboundary_s10[tissue_psi_cols].max(axis=1)\n",
    "mfe_all_ascot_prexonboundary_s10[\"tissue_psi_min\"] = mfe_all_ascot_prexonboundary_s10[tissue_psi_cols].min(axis=1)\n",
    "mfe_all_ascot_prexonboundary_s10[\"tissue_psi_median\"] = mfe_all_ascot_prexonboundary_s10[tissue_psi_cols].median(axis=1)\n",
    "\n",
    "mfe_all_ascot_prexonboundary_s10[\"tissue_psi_q25\"] = mfe_all_ascot_prexonboundary_s10[tissue_psi_cols].quantile(q=0.25,axis=1)\n",
    "mfe_all_ascot_prexonboundary_s10[\"tissue_psi_q75\"] = mfe_all_ascot_prexonboundary_s10[tissue_psi_cols].quantile(q=0.75,axis=1)\n",
    "mfe_all_ascot_prexonboundary_s10[\"tissue_psi_iqr\"] = mfe_all_ascot_prexonboundary_s10[\"tissue_psi_q75\"] - mfe_all_ascot_prexonboundary_s10[\"tissue_psi_q25\"]\n",
    "\n",
    "# Convert columns to numeric\n",
    "mfe_all_ascot_prexonboundary_s10[\"exon_length\"] = pd.to_numeric(mfe_all_ascot_prexonboundary_s10[\"exon_length\"])"
   ]
  },
  {
   "cell_type": "code",
   "execution_count": 22,
   "metadata": {},
   "outputs": [],
   "source": [
    "bins = [0, 50, 250, 10000]\n",
    "labels = [\"short\", \"medium\", \"long\"]\n",
    "mfe_all_ascot_prexonboundary_s10[\"exon_length_category\"] = pd.cut(mfe_all_ascot_prexonboundary_s10[\"exon_length\"], bins=bins, labels=labels)\n",
    "\n",
    "#display(mfe_all_ascot_prexonboundary_s10[\"exon_length_category\"].value_counts())\n",
    "\n",
    "for l in [\"short\", \"medium\", \"long\"]:\n",
    "    #print(l)\n",
    "    #display(mfe_all_ascot_prexonboundary_s10[mfe_all_ascot_prexonboundary_s10[\"exon_length_category\"] == l][\"exon_type\"].value_counts())\n",
    "    #display(mfe_all_ascot_prexonboundary_s10[mfe_all_ascot_prexonboundary_s10[\"exon_length_category\"] == l][\"inversion\"].value_counts())\n",
    "    continue"
   ]
  },
  {
   "cell_type": "code",
   "execution_count": 23,
   "metadata": {},
   "outputs": [],
   "source": [
    "maxentscan_3ss_all_mfe = maxentscan_3ss_all_mfe.apply(pd.Series).rename(columns={0:\"3ss_seq\", 1:\"3ss_score\"})\n",
    "maxentscan_5ss_all_mfe = maxentscan_5ss_all_mfe.apply(pd.Series).rename(columns={0:\"5ss_seq\", 1:\"5ss_score\"})\n",
    "all_mfe_maxentscan = pd.concat([mfe_all_ascot_prexonboundary_s10, maxentscan_3ss_all_mfe, maxentscan_5ss_all_mfe], axis=\"columns\")\n",
    "\n",
    "all_mfe_maxentscan[\"exon_definition\"] = (\n",
    "    np.where(((all_mfe_maxentscan[\"3ss_score\"] > 5) & (all_mfe_maxentscan[\"5ss_score\"] > 5)), \"strong\", \"weak\")\n",
    ")\n",
    "all_mfe_maxentscan[\"exon_definition_3ss\"] = np.where((all_mfe_maxentscan[\"3ss_score\"] > 5), \"strong\", \"weak\")\n",
    "all_mfe_maxentscan[\"exon_definition_5ss\"] = np.where((all_mfe_maxentscan[\"5ss_score\"] > 5), \"strong\", \"weak\")\n",
    "\n",
    "all_mfe_maxentscan.rename(\n",
    "    columns={\"3ss_score\": \"maxentscan_3ss_score\", \"5ss_score\": \"maxentscan_5ss_score\"}, inplace=True)\n",
    "\n",
    "def movassat_mes_categories(row):\n",
    "    if row['maxentscan_3ss_score'] < 6 and row['maxentscan_5ss_score'] < 6:\n",
    "        return 'WW'\n",
    "    elif row['maxentscan_3ss_score'] < 6 and row['maxentscan_5ss_score'] > 8:\n",
    "        return 'WS'\n",
    "    elif row['maxentscan_3ss_score'] > 8 and row['maxentscan_5ss_score'] < 6:\n",
    "        return 'SW'\n",
    "    elif row['maxentscan_3ss_score'] > 8 and row['maxentscan_5ss_score'] > 8:\n",
    "        return 'SS'\n",
    "\n",
    "MES_order = [\"SS\", \"WS\", \"SW\", \"WW\"]\n",
    "all_mfe_maxentscan['MES_category'] = all_mfe_maxentscan.apply(movassat_mes_categories, axis=1)\n",
    "all_mfe_maxentscan[\"MES_3ss\"] = np.where((all_mfe_maxentscan[\"maxentscan_3ss_score\"] > 8), \"strong\", \"weak\") #XXX revise\n",
    "all_mfe_maxentscan[\"MES_5ss\"] = np.where((all_mfe_maxentscan[\"maxentscan_5ss_score\"] > 8), \"strong\", \"weak\")"
   ]
  },
  {
   "cell_type": "code",
   "execution_count": 24,
   "metadata": {},
   "outputs": [],
   "source": [
    "#  I tried to move this to the mfe module but couldn't due to \"stats\" library error\n",
    "def linear_regression_exon_def(df, inversion, xaxis, target_width=None, target_height=None):\n",
    "    \"\"\" inversion: inverted or non-inverted \n",
    "        xaxis: minimum or median\n",
    "    \"\"\"\n",
    "    tick_params_width = 0.25\n",
    "    tick_params_length = 1\n",
    "    tick_params_pad = 2\n",
    "    axis_label_pad = 2\n",
    "\n",
    "    fontsize_min = 5\n",
    "    plt.rcParams['font.family'] = 'DejaVu Sans'\n",
    "\n",
    "    custom_palette = sns.color_palette(\"husl\", 4)\n",
    "    rotated_palette = custom_palette[-1:] + custom_palette[:-1]  # Rotate by 1 position\n",
    "\n",
    "    if xaxis == \"minimum\":\n",
    "        x_col = \"tissue_psi_min\"\n",
    "        x_col_label = \"Minimum tissue PSI\"\n",
    "    elif xaxis == \"median\":\n",
    "        x_col = \"tissue_psi_median\"\n",
    "        x_col_label = \"Median tissue PSI\"\n",
    "    \n",
    "    sns.set_style(\"ticks\")\n",
    "\n",
    "    aspect_ratio = target_width / target_height\n",
    "\n",
    "    g = sns.lmplot(\n",
    "        data=df[df[\"inversion\"] == inversion],\n",
    "        x=x_col, y=\"seq_corrected_mfe\", #x=\"tissue_psi_min\"\n",
    "        hue=\"MES_category\", hue_order=MES_order,\n",
    "        scatter_kws={\"alpha\": 0.5, \"facecolor\": \"none\", \"s\": 1}, #\"edgecolor\": \"black\"\n",
    "        line_kws={\"linewidth\": 0.5},\n",
    "        legend=False,\n",
    "        palette=rotated_palette,\n",
    "        ci=None\n",
    "    ) #height=target_height, aspect=aspect_ratio\n",
    "    \n",
    "    g.fig.set_size_inches(target_width, target_height)\n",
    "    mes_categories = df[\"MES_category\"].unique()\n",
    "    annotations = {\"all\": []}\n",
    "\n",
    "    for mes_category in MES_order:\n",
    "        subset = df[\n",
    "            (df[\"inversion\"] == inversion) &\n",
    "            (df[\"MES_category\"] == mes_category)\n",
    "        ]\n",
    "        if not subset.empty:\n",
    "            try:\n",
    "                slope, intercept, r_value, p_value, std_err = stats.linregress(subset[x_col], subset[\"seq_corrected_mfe\"])\n",
    "                r_squared = r_value**2\n",
    "                p_adj = min(1, 4*p_value)  # manual Bonferroni correction --> num_tests * p_value < 0.05 but cannot exceed 1\n",
    "                #annotation = f\"{mes_category} → Slope: {slope:.2f}; R²: {r_squared:.2f}; p_adj: {p_adj:.2e}\"\n",
    "                annotation = f\"{mes_category}: R²={r_squared:.2f}, p_adj={p_adj:.2e}\"\n",
    "                #annotations[exon_length_category].append(annotation) \n",
    "                annotations[\"all\"].append(annotation)\n",
    "            except ValueError:\n",
    "                pass\n",
    "\n",
    "    for ax in g.axes.flatten():\n",
    "        annotation_text = \"\\n\\n\".join(annotations[\"all\"])\n",
    "        pos = ax.get_position()\n",
    "        center_x = (pos.x0 + pos.x1) / 2\n",
    "\n",
    "        # g.fig.text(\n",
    "        #     center_x, pos.y0 - 0.18, annotation_text,\n",
    "        #     ha='center', va='top', fontsize=fontsize_min,\n",
    "        #     bbox=dict(boxstyle=\"round,pad=0.3\", edgecolor=None, facecolor=\"khaki\")\n",
    "        # )\n",
    "        g.fig.text(\n",
    "            1.33, 0.45, annotation_text,\n",
    "            ha='center', va='top', fontsize=fontsize_min,\n",
    "            bbox=dict(boxstyle=\"round,pad=0.3\", edgecolor=None, facecolor=\"khaki\")\n",
    "        )\n",
    "    \n",
    "    g.fig.legend(\n",
    "        loc='center left',\n",
    "        bbox_to_anchor=(0.95, 0.75), #(0.95, 0.5)\n",
    "        ncol=1,\n",
    "        frameon=True,\n",
    "        fontsize=fontsize_min,\n",
    "        title='Exon definition',\n",
    "        title_fontsize=fontsize_min,\n",
    "        columnspacing=0.5,\n",
    "        handletextpad=0.3,\n",
    "        borderpad=0.7\n",
    "    )\n",
    "    g.set_axis_labels(x_col_label, \"Length-adjusted MFE\")\n",
    "    \n",
    "    g.set_xlabels(x_col_label, fontsize=fontsize_min, labelpad=axis_label_pad)\n",
    "    g.set_ylabels(\"Length-adjusted MFE\", fontsize=fontsize_min, labelpad=axis_label_pad)\n",
    "    \n",
    "    plt.tick_params(axis='both', which='major', labelsize=fontsize_min, length=tick_params_length, width=tick_params_width, pad=tick_params_pad)\n",
    "\n",
    "    for spine in ax.spines.values():\n",
    "        spine.set_linewidth(0.25)"
   ]
  },
  {
   "cell_type": "code",
   "execution_count": 25,
   "metadata": {},
   "outputs": [
    {
     "data": {
      "image/png": "[encoded data removed]",
      "text/plain": [
       "<Figure size 160.041x128.033 with 1 Axes>"
      ]
     },
     "metadata": {},
     "output_type": "display_data"
    }
   ],
   "source": [
    "mm_per_in = 25.4\n",
    "scaling_factor = 1.23\n",
    "\n",
    "target_width_in = (50/scaling_factor) / mm_per_in\n",
    "target_height_in = (40/scaling_factor) /mm_per_in\n",
    "\n",
    "iqr_quantile = 0\n",
    "filtered_data = all_mfe_maxentscan[\n",
    "    (all_mfe_maxentscan[\"exon_type\"] == \"skippable\") &\n",
    "    #(all_mfe_maxentscan[\"inversion\"] == \"inverted\") &\n",
    "    (all_mfe_maxentscan[\"tissue_psi_min\"] <= 90) &\n",
    "    (all_mfe_maxentscan[\"tissue_psi_min\"] >= 10) &\n",
    "    (all_mfe_maxentscan[\"tissue_psi_iqr\"] >= all_mfe_maxentscan[\"tissue_psi_iqr\"].quantile(q=iqr_quantile))\n",
    "]\n",
    "\n",
    "linear_regression_exon_def(filtered_data, inversion=\"inverted\", xaxis=\"minimum\", target_width=target_width_in, target_height=target_height_in)\n",
    "\n",
    "#plt.savefig(os.path.join(image_dir, \"manuscript\", \"2024-10-23\", \"figure2d_2024-10-23_min.svg\"), bbox_inches = \"tight\")\n",
    "#plt.savefig(os.path.join(image_dir, \"manuscript\", \"2024-10-23\", \"figure2d_2024-10-23_min.png\"), dpi=300, bbox_inches = \"tight\")\n",
    "plt.show()"
   ]
  },
  {
   "cell_type": "code",
   "execution_count": 26,
   "metadata": {},
   "outputs": [
    {
     "data": {
      "image/png": "[encoded data removed]",
      "text/plain": [
       "<Figure size 160.041x128.033 with 1 Axes>"
      ]
     },
     "metadata": {},
     "output_type": "display_data"
    }
   ],
   "source": [
    "iqr_quantile = 0\n",
    "filtered_data = all_mfe_maxentscan[\n",
    "    (all_mfe_maxentscan[\"exon_type\"] == \"skippable\") &\n",
    "    #(all_mfe_maxentscan[\"inversion\"] == \"inverted\") &\n",
    "    (all_mfe_maxentscan[\"tissue_psi_min\"] <= 90) &\n",
    "    (all_mfe_maxentscan[\"tissue_psi_min\"] >= 10) &\n",
    "    (all_mfe_maxentscan[\"tissue_psi_iqr\"] >= all_mfe_maxentscan[\"tissue_psi_iqr\"].quantile(q=iqr_quantile))\n",
    "]\n",
    "\n",
    "linear_regression_exon_def(filtered_data, inversion=\"inverted\", xaxis=\"median\", target_width=target_width_in, target_height=target_height_in)\n",
    "#plt.savefig(os.path.join(image_dir, \"manuscript\", \"2024-10-23\", \"figure2d_2024-10-23_med.svg\"), bbox_inches = \"tight\")\n",
    "#plt.savefig(os.path.join(image_dir, \"manuscript\", \"2024-10-23\", \"figure2d_2024-10-23_med.png\"), dpi=300, bbox_inches = \"tight\")\n",
    "plt.show()"
   ]
  },
  {
   "cell_type": "code",
   "execution_count": 27,
   "metadata": {},
   "outputs": [
    {
     "name": "stdout",
     "output_type": "stream",
     "text": [
      "\n",
      "Total pairs: 12471\n",
      "\n",
      " inversion\n",
      "inverted        5987\n",
      "non-inverted    6484\n",
      "dtype: int64\n",
      "\n",
      " exon_type\n",
      "constitutive    2576\n",
      "skippable       9895\n",
      "dtype: int64\n",
      "\n",
      "Skippable:\n",
      "\n",
      "inversion\n",
      "inverted        4806\n",
      "non-inverted    5089\n",
      "dtype: int64\n",
      "\n",
      "10<=min_PSI<=90: 3405\n"
     ]
    }
   ],
   "source": [
    "print(\"\\nTotal pairs:\", all_mfe_maxentscan.groupby([\"exon_type\"]).size().sum())\n",
    "print(\"\\n\", all_mfe_maxentscan.groupby([\"inversion\"]).size())\n",
    "print(\"\\n\", all_mfe_maxentscan.groupby([\"exon_type\"]).size())\n",
    "print(\"\\nSkippable:\\n\")\n",
    "print(all_mfe_maxentscan[all_mfe_maxentscan[\"exon_type\"] == \"skippable\"].groupby([\"inversion\"]).size())\n",
    "print(\"\\n10<=min_PSI<=90:\", len(all_mfe_maxentscan[(all_mfe_maxentscan[\"exon_type\"] == \"skippable\") & (all_mfe_maxentscan[\"tissue_psi_min\"] <= 90) & (all_mfe_maxentscan[\"tissue_psi_min\"] >= 10)]))"
   ]
  },
  {
   "cell_type": "code",
   "execution_count": 28,
   "metadata": {},
   "outputs": [
    {
     "name": "stdout",
     "output_type": "stream",
     "text": [
      "exon_type\n",
      "skippable    3405\n",
      "dtype: int64\n",
      "inversion\n",
      "inverted        1615\n",
      "non-inverted    1790\n",
      "dtype: int64\n",
      "\n",
      " MES_category\n",
      "SS    1255\n",
      "SW     354\n",
      "WS     389\n",
      "WW      54\n",
      "dtype: int64\n",
      "\n",
      " MES_category\n",
      "SS    639\n",
      "SW    184\n",
      "WS    177\n",
      "WW     24\n",
      "dtype: int64\n",
      "\n",
      " 591\n"
     ]
    }
   ],
   "source": [
    "print(filtered_data.groupby([\"exon_type\"]).size()) #.sum()\n",
    "print(filtered_data.groupby([\"inversion\"]).size())\n",
    "print(\"\\n\",filtered_data.groupby([\"MES_category\"]).size())\n",
    "print(\"\\n\",filtered_data[filtered_data[\"inversion\"] == \"inverted\"].groupby([\"MES_category\"]).size())\n",
    "print(\"\\n\",1615-filtered_data[filtered_data[\"inversion\"] == \"inverted\"].groupby([\"MES_category\"]).size().sum())"
   ]
  },
  {
   "cell_type": "markdown",
   "metadata": {},
   "source": [
    "#### Figure S2B"
   ]
  },
  {
   "cell_type": "code",
   "execution_count": 29,
   "metadata": {},
   "outputs": [
    {
     "data": {
      "image/png": "[encoded data removed]",
      "text/plain": [
       "<Figure size 160.041x128.033 with 1 Axes>"
      ]
     },
     "metadata": {},
     "output_type": "display_data"
    }
   ],
   "source": [
    "mm_per_in = 25.4\n",
    "scaling_factor = 1.23\n",
    "\n",
    "target_width_in = (50/scaling_factor) / mm_per_in\n",
    "target_height_in = (40/scaling_factor) /mm_per_in\n",
    "\n",
    "iqr_quantile = 0\n",
    "filtered_data = all_mfe_maxentscan[\n",
    "    (all_mfe_maxentscan[\"exon_type\"] == \"skippable\") &\n",
    "    (all_mfe_maxentscan[\"tissue_psi_min\"] <= 90) &\n",
    "    (all_mfe_maxentscan[\"tissue_psi_min\"] >= 10) &\n",
    "    (all_mfe_maxentscan[\"tissue_psi_iqr\"] >= all_mfe_maxentscan[\"tissue_psi_iqr\"].quantile(q=iqr_quantile))\n",
    "]\n",
    "\n",
    "linear_regression_exon_def(filtered_data, inversion=\"non-inverted\", xaxis=\"minimum\", target_width=target_width_in, target_height=target_height_in)\n",
    "#plt.savefig(os.path.join(image_dir, \"manuscript\", \"2024-10-23\", \"figureS2b_2024-10-23_min.svg\"), bbox_inches = \"tight\")\n",
    "#plt.savefig(os.path.join(image_dir, \"manuscript\", \"2024-10-23\", \"figureS2b_2024-10-23_min.png\"), dpi=300, bbox_inches = \"tight\")\n",
    "plt.show()"
   ]
  },
  {
   "cell_type": "code",
   "execution_count": 30,
   "metadata": {},
   "outputs": [
    {
     "data": {
      "image/png": "[encoded data removed]",
      "text/plain": [
       "<Figure size 160.041x128.033 with 1 Axes>"
      ]
     },
     "metadata": {},
     "output_type": "display_data"
    }
   ],
   "source": [
    "iqr_quantile = 0\n",
    "filtered_data = all_mfe_maxentscan[\n",
    "    (all_mfe_maxentscan[\"exon_type\"] == \"skippable\") &\n",
    "    (all_mfe_maxentscan[\"tissue_psi_min\"] <= 90) &\n",
    "    (all_mfe_maxentscan[\"tissue_psi_min\"] >= 10) &\n",
    "    (all_mfe_maxentscan[\"tissue_psi_iqr\"] >= all_mfe_maxentscan[\"tissue_psi_iqr\"].quantile(q=iqr_quantile))\n",
    "]\n",
    "\n",
    "linear_regression_exon_def(filtered_data, inversion=\"non-inverted\", xaxis=\"median\", target_width=target_width_in, target_height=target_height_in)\n",
    "#plt.savefig(os.path.join(image_dir, \"manuscript\", \"2024-10-23\", \"figureS2b_2024-10-23_med.svg\"), bbox_inches = \"tight\")\n",
    "#plt.savefig(os.path.join(image_dir, \"manuscript\", \"2024-10-23\", \"figureS2b_2024-10-23_med.png\"), dpi=300, bbox_inches = \"tight\")\n",
    "plt.show()"
   ]
  },
  {
   "cell_type": "markdown",
   "metadata": {},
   "source": [
    "#### Figure 2E"
   ]
  },
  {
   "cell_type": "code",
   "execution_count": 31,
   "metadata": {},
   "outputs": [],
   "source": [
    "# reorder\n",
    "all_mfe_maxentscan.insert(0, 'Chromosome', all_mfe_maxentscan.pop('Chromosome'))\n",
    "all_mfe_maxentscan.insert(1, 'upstream_alu_start', all_mfe_maxentscan.pop('upstream_alu_start'))\n",
    "all_mfe_maxentscan.insert(2, 'downstream_alu_start', all_mfe_maxentscan.pop('downstream_alu_start'))\n",
    "all_mfe_maxentscan.insert(3, 'exon_gene', all_mfe_maxentscan.pop('exon_gene'))\n",
    "all_mfe_maxentscan.insert(4, 'level_7', all_mfe_maxentscan.pop('level_7'))\n",
    "all_mfe_maxentscan.insert(5, 'Strand', all_mfe_maxentscan.pop('Strand')) # XXX"
   ]
  },
  {
   "cell_type": "code",
   "execution_count": 32,
   "metadata": {},
   "outputs": [],
   "source": [
    "all_mfe_maxentscan_redi = (\n",
    "    BedTool.from_dataframe(\n",
    "        #all_mfe_maxentscan[[\"Chromosome\", \"upstream_alu_start\", \"downstream_alu_end\", \"Strand\"]]\n",
    "        all_mfe_maxentscan\n",
    "    ).intersect(rediportal_bed, c=True, s=True)\n",
    ").to_dataframe(names=list(all_mfe_maxentscan.columns) + [\"rediportal_count\"]) # lof=True, u=True "
   ]
  },
  {
   "cell_type": "code",
   "execution_count": 33,
   "metadata": {},
   "outputs": [
    {
     "name": "stdout",
     "output_type": "stream",
     "text": [
      "There are 12,471 entries with REDI portal (RNA editing) annotations out of the original 12,471.\n"
     ]
    }
   ],
   "source": [
    "print(f\"There are {len(all_mfe_maxentscan_redi):,} entries with REDI portal (RNA editing) annotations out of the original {len(all_mfe_maxentscan):,}.\")"
   ]
  },
  {
   "cell_type": "code",
   "execution_count": 34,
   "metadata": {},
   "outputs": [
    {
     "data": {
      "text/plain": [
       "exon_type\n",
       "skippable       9895\n",
       "constitutive    2576\n",
       "Name: count, dtype: int64"
      ]
     },
     "execution_count": 34,
     "metadata": {},
     "output_type": "execute_result"
    }
   ],
   "source": [
    "all_mfe_maxentscan_redi[\"exon_type\"].value_counts()"
   ]
  },
  {
   "cell_type": "code",
   "execution_count": 35,
   "metadata": {},
   "outputs": [
    {
     "data": {
      "text/plain": [
       "inversion\n",
       "non-inverted    6484\n",
       "inverted        5987\n",
       "Name: count, dtype: int64"
      ]
     },
     "execution_count": 35,
     "metadata": {},
     "output_type": "execute_result"
    }
   ],
   "source": [
    "all_mfe_maxentscan_redi[\"inversion\"].value_counts()"
   ]
  },
  {
   "cell_type": "code",
   "execution_count": 36,
   "metadata": {},
   "outputs": [],
   "source": [
    "# Average per exon (REDIportal)\n",
    "\n",
    "all_mfe_maxentscan_redi_grouped = all_mfe_maxentscan_redi.groupby(['Chromosome', 'Start', 'End', 'Strand']).rediportal_count.mean().reset_index()\n",
    "all_mfe_maxentscan_redi_grouped.rename(columns={'rediportal_count': 'average_rediportal_count'}, inplace=True)\n",
    "\n",
    "#display(all_mfe_maxentscan_redi_grouped)\n"
   ]
  },
  {
   "cell_type": "code",
   "execution_count": 37,
   "metadata": {},
   "outputs": [],
   "source": [
    "iqr_quantile = 0\n",
    "filtered_redi_lt50 = all_mfe_maxentscan_redi[\n",
    "    (all_mfe_maxentscan_redi[\"exon_type\"] == \"skippable\") &\n",
    "    (all_mfe_maxentscan_redi[\"inversion\"] == \"inverted\") & \n",
    "    (all_mfe_maxentscan_redi[\"tissue_psi_min\"] <= 50) &\n",
    "    (all_mfe_maxentscan_redi[\"tissue_psi_min\"] >= 10) &\n",
    "    (all_mfe_maxentscan_redi[\"tissue_psi_iqr\"] >= all_mfe_maxentscan_redi[\"tissue_psi_iqr\"].quantile(q=iqr_quantile))\n",
    "]\n",
    "filtered_redi_lt50 = filtered_redi_lt50.copy()\n",
    "filtered_redi_lt50[\"psi_category\"] = \"PSI < 50%\"\n",
    "filtered_redi_gt50 = all_mfe_maxentscan_redi[\n",
    "    (all_mfe_maxentscan_redi[\"exon_type\"] == \"skippable\") &\n",
    "    (all_mfe_maxentscan_redi[\"inversion\"] == \"inverted\") & \n",
    "    (all_mfe_maxentscan_redi[\"tissue_psi_min\"] <= 90) &\n",
    "    (all_mfe_maxentscan_redi[\"tissue_psi_min\"] > 50) &\n",
    "    (all_mfe_maxentscan_redi[\"tissue_psi_iqr\"] >= all_mfe_maxentscan_redi[\"tissue_psi_iqr\"].quantile(q=iqr_quantile))\n",
    "]\n",
    "filtered_redi_gt50 = filtered_redi_gt50.copy()\n",
    "filtered_redi_gt50[\"psi_category\"] = \"PSI > 50%\"\n",
    "filtered_redi = pd.concat([filtered_redi_lt50, filtered_redi_gt50], axis=0)"
   ]
  },
  {
   "cell_type": "code",
   "execution_count": 38,
   "metadata": {},
   "outputs": [],
   "source": [
    "iqr_quantile = 0\n",
    "filtered_redi_medlt50 = all_mfe_maxentscan_redi[\n",
    "    (all_mfe_maxentscan_redi[\"exon_type\"] == \"skippable\") &\n",
    "    (all_mfe_maxentscan_redi[\"inversion\"] == \"inverted\") & \n",
    "    (all_mfe_maxentscan_redi[\"tissue_psi_median\"] <= 50) &\n",
    "    (all_mfe_maxentscan_redi[\"tissue_psi_min\"] <= 90) &\n",
    "    (all_mfe_maxentscan_redi[\"tissue_psi_min\"] >= 10) &\n",
    "    (all_mfe_maxentscan_redi[\"tissue_psi_iqr\"] >= all_mfe_maxentscan_redi[\"tissue_psi_iqr\"].quantile(q=iqr_quantile))\n",
    "]\n",
    "filtered_redi_medlt50 = filtered_redi_medlt50.copy()\n",
    "filtered_redi_medlt50[\"psi_category\"] = \"PSI < 50%\"\n",
    "filtered_redi_medgt50 = all_mfe_maxentscan_redi[\n",
    "    (all_mfe_maxentscan_redi[\"exon_type\"] == \"skippable\") &\n",
    "    (all_mfe_maxentscan_redi[\"inversion\"] == \"inverted\") & \n",
    "    (all_mfe_maxentscan_redi[\"tissue_psi_median\"] > 50) &\n",
    "    (all_mfe_maxentscan_redi[\"tissue_psi_min\"] <= 90) &\n",
    "    (all_mfe_maxentscan_redi[\"tissue_psi_min\"] >= 10) &\n",
    "    (all_mfe_maxentscan_redi[\"tissue_psi_iqr\"] >= all_mfe_maxentscan_redi[\"tissue_psi_iqr\"].quantile(q=iqr_quantile))\n",
    "]\n",
    "filtered_redi_medgt50 = filtered_redi_medgt50.copy()\n",
    "filtered_redi_medgt50[\"psi_category\"] = \"PSI > 50%\"\n",
    "filtered_redi_med = pd.concat([filtered_redi_medlt50, filtered_redi_medgt50], axis=0)"
   ]
  },
  {
   "cell_type": "code",
   "execution_count": 39,
   "metadata": {},
   "outputs": [],
   "source": [
    "# Moved to \"general_plots\"\n",
    "# def plot_redi_rna_editing_burden(df, ax, show_table=True):\n",
    "#     tick_params_width = 0.25\n",
    "#     tick_params_length = 1\n",
    "#     tick_params_pad = 2\n",
    "#     axis_label_pad = 2\n",
    "\n",
    "#     fontsize_min = 5\n",
    "#     plt.rcParams['font.family'] = 'DejaVu Sans'\n",
    "\n",
    "#     exon_def_mapping = {\".\": \"Other\", \"WS\": \"WS\", \"SS\":\"SS\", \"WW\":\"WW\", \"SW\":\"SW\"}\n",
    "#     category_order = [\"WS\", \"SS\", \"SW\", \"WW\", \"Other\"]\n",
    "#     custom_palette = [\"#2ca02c\", \"#9467bd\"]\n",
    "    \n",
    "#     filtered_redi = df\n",
    "#     filtered_redi['MES_category_map'] = filtered_redi['MES_category'].map(exon_def_mapping)\n",
    "\n",
    "#     if show_table:\n",
    "#         ttest_upstream_redi_results = []\n",
    "#         grouped_data = filtered_redi.groupby(\"MES_category_map\")\n",
    "\n",
    "#         for name, group in grouped_data:\n",
    "#             inv1 = group[group[\"psi_category\"] == \"PSI < 50%\"][\"rediportal_count\"]\n",
    "#             inv2 = group[group[\"psi_category\"] == \"PSI > 50%\"][\"rediportal_count\"]\n",
    "\n",
    "#             t_stat, p_value = ttest_ind(inv1, inv2)\n",
    "#             ttest_upstream_redi_results.append({\"MES_category_map\": name, \"t_stat\": t_stat, \"p_value\": p_value, \"p_adj\": p_value*5})\n",
    "\n",
    "#         ttest_upstream_redi_results_df = pd.DataFrame(ttest_upstream_redi_results)\n",
    "#         display(ttest_upstream_redi_results_df)\n",
    "    \n",
    "#     sns.set_style(\"ticks\")\n",
    "#     sns.violinplot(\n",
    "#         data=filtered_redi, x='MES_category_map', hue=\"psi_category\", y=\"rediportal_count\", \n",
    "#         inner=\"box\", order=category_order, palette=custom_palette, linewidth=0.5, ax=ax\n",
    "#     )\n",
    "\n",
    "#     ax.set_ylabel(\"RNA editing burden\", fontsize=fontsize_min, labelpad=axis_label_pad)\n",
    "#     ax.set_xlabel(\"Exon definition category\", fontsize=fontsize_min, labelpad=axis_label_pad)\n",
    "\n",
    "#     ax.tick_params(axis='x', labelsize=fontsize_min, \n",
    "#                    length=tick_params_length, width=tick_params_width, pad=tick_params_pad)\n",
    "#     ax.tick_params(axis='y', labelsize=fontsize_min, \n",
    "#                    length=tick_params_length, width=tick_params_width, pad=tick_params_pad)\n",
    "\n",
    "#     ax.set_ylim(-99, 500)\n",
    "#     ax.tick_params(axis='both', which='both', \n",
    "#                    length=tick_params_length, width=tick_params_width, pad=tick_params_pad)\n",
    "    \n",
    "#     ax.yaxis.grid(True, linewidth=0.25)\n",
    "#     ax.xaxis.grid(False)\n",
    "\n",
    "#     ax.legend(title='', fancybox=True, shadow=False, borderaxespad=0., fontsize=fontsize_min)\n",
    "\n",
    "#     for spine in ax.spines.values():\n",
    "#         spine.set_linewidth(0.25)"
   ]
  },
  {
   "cell_type": "code",
   "execution_count": 40,
   "metadata": {},
   "outputs": [
    {
     "data": {
      "text/html": [
       "<div>\n",
       "<style scoped>\n",
       "    .dataframe tbody tr th:only-of-type {\n",
       "        vertical-align: middle;\n",
       "    }\n",
       "\n",
       "    .dataframe tbody tr th {\n",
       "        vertical-align: top;\n",
       "    }\n",
       "\n",
       "    .dataframe thead th {\n",
       "        text-align: right;\n",
       "    }\n",
       "</style>\n",
       "<table border=\"1\" class=\"dataframe\">\n",
       "  <thead>\n",
       "    <tr style=\"text-align: right;\">\n",
       "      <th></th>\n",
       "      <th>MES_category_map</th>\n",
       "      <th>t_stat</th>\n",
       "      <th>p_value</th>\n",
       "      <th>p_adj</th>\n",
       "    </tr>\n",
       "  </thead>\n",
       "  <tbody>\n",
       "    <tr>\n",
       "      <th>0</th>\n",
       "      <td>Other</td>\n",
       "      <td>-0.291512</td>\n",
       "      <td>7.707622e-01</td>\n",
       "      <td>3.853811e+00</td>\n",
       "    </tr>\n",
       "    <tr>\n",
       "      <th>1</th>\n",
       "      <td>SS</td>\n",
       "      <td>-0.146652</td>\n",
       "      <td>8.834530e-01</td>\n",
       "      <td>4.417265e+00</td>\n",
       "    </tr>\n",
       "    <tr>\n",
       "      <th>2</th>\n",
       "      <td>SW</td>\n",
       "      <td>-1.244869</td>\n",
       "      <td>2.147804e-01</td>\n",
       "      <td>1.073902e+00</td>\n",
       "    </tr>\n",
       "    <tr>\n",
       "      <th>3</th>\n",
       "      <td>WS</td>\n",
       "      <td>6.106698</td>\n",
       "      <td>6.394351e-09</td>\n",
       "      <td>3.197176e-08</td>\n",
       "    </tr>\n",
       "    <tr>\n",
       "      <th>4</th>\n",
       "      <td>WW</td>\n",
       "      <td>-1.676069</td>\n",
       "      <td>1.078801e-01</td>\n",
       "      <td>5.394007e-01</td>\n",
       "    </tr>\n",
       "  </tbody>\n",
       "</table>\n",
       "</div>"
      ],
      "text/plain": [
       "  MES_category_map    t_stat       p_value         p_adj\n",
       "0            Other -0.291512  7.707622e-01  3.853811e+00\n",
       "1               SS -0.146652  8.834530e-01  4.417265e+00\n",
       "2               SW -1.244869  2.147804e-01  1.073902e+00\n",
       "3               WS  6.106698  6.394351e-09  3.197176e-08\n",
       "4               WW -1.676069  1.078801e-01  5.394007e-01"
      ]
     },
     "metadata": {},
     "output_type": "display_data"
    },
    {
     "data": {
      "image/png": "[encoded data removed]",
      "text/plain": [
       "<Figure size 288.074x144.037 with 1 Axes>"
      ]
     },
     "metadata": {},
     "output_type": "display_data"
    }
   ],
   "source": [
    "import general_plots\n",
    "reload(general_plots)\n",
    "from general_plots import *\n",
    "\n",
    "mm_per_in = 25.4\n",
    "scaling_factor = 1.23\n",
    "\n",
    "target_width_in = (90/scaling_factor) / mm_per_in\n",
    "target_height_in = (45/scaling_factor) /mm_per_in\n",
    "\n",
    "width_ratios = [1]\n",
    "fig, axs = plt.subplots(1, 1, figsize=(target_width_in, target_height_in),\n",
    "                        gridspec_kw={'width_ratios': width_ratios})\n",
    "\n",
    "plot_redi_rna_editing_burden(filtered_redi, axs, show_table=True) #filtered_redi_med\n",
    "\n",
    "#plt.savefig(os.path.join(image_dir, \"manuscript\", \"2024-10-23\", \"figure2e_min_2024-10-23.svg\"), bbox_inches = \"tight\")\n",
    "#plt.savefig(os.path.join(image_dir, \"manuscript\", \"2024-10-23\", \"figure2e_min_2024-10-23.png\"), dpi=300, bbox_inches = \"tight\")\n",
    "plt.show()"
   ]
  },
  {
   "cell_type": "code",
   "execution_count": 41,
   "metadata": {},
   "outputs": [
    {
     "data": {
      "text/html": [
       "<div>\n",
       "<style scoped>\n",
       "    .dataframe tbody tr th:only-of-type {\n",
       "        vertical-align: middle;\n",
       "    }\n",
       "\n",
       "    .dataframe tbody tr th {\n",
       "        vertical-align: top;\n",
       "    }\n",
       "\n",
       "    .dataframe thead th {\n",
       "        text-align: right;\n",
       "    }\n",
       "</style>\n",
       "<table border=\"1\" class=\"dataframe\">\n",
       "  <thead>\n",
       "    <tr style=\"text-align: right;\">\n",
       "      <th></th>\n",
       "      <th>MES_category_map</th>\n",
       "      <th>t_stat</th>\n",
       "      <th>p_value</th>\n",
       "      <th>p_adj</th>\n",
       "    </tr>\n",
       "  </thead>\n",
       "  <tbody>\n",
       "    <tr>\n",
       "      <th>0</th>\n",
       "      <td>Other</td>\n",
       "      <td>-1.017448</td>\n",
       "      <td>3.093579e-01</td>\n",
       "      <td>1.546790</td>\n",
       "    </tr>\n",
       "    <tr>\n",
       "      <th>1</th>\n",
       "      <td>SS</td>\n",
       "      <td>0.030802</td>\n",
       "      <td>9.754372e-01</td>\n",
       "      <td>4.877186</td>\n",
       "    </tr>\n",
       "    <tr>\n",
       "      <th>2</th>\n",
       "      <td>SW</td>\n",
       "      <td>0.272156</td>\n",
       "      <td>7.858104e-01</td>\n",
       "      <td>3.929052</td>\n",
       "    </tr>\n",
       "    <tr>\n",
       "      <th>3</th>\n",
       "      <td>WS</td>\n",
       "      <td>5.192039</td>\n",
       "      <td>5.728261e-07</td>\n",
       "      <td>0.000003</td>\n",
       "    </tr>\n",
       "    <tr>\n",
       "      <th>4</th>\n",
       "      <td>WW</td>\n",
       "      <td>-1.827324</td>\n",
       "      <td>8.124862e-02</td>\n",
       "      <td>0.406243</td>\n",
       "    </tr>\n",
       "  </tbody>\n",
       "</table>\n",
       "</div>"
      ],
      "text/plain": [
       "  MES_category_map    t_stat       p_value     p_adj\n",
       "0            Other -1.017448  3.093579e-01  1.546790\n",
       "1               SS  0.030802  9.754372e-01  4.877186\n",
       "2               SW  0.272156  7.858104e-01  3.929052\n",
       "3               WS  5.192039  5.728261e-07  0.000003\n",
       "4               WW -1.827324  8.124862e-02  0.406243"
      ]
     },
     "metadata": {},
     "output_type": "display_data"
    },
    {
     "data": {
      "image/png": "[encoded data removed]",
      "text/plain": [
       "<Figure size 288.074x144.037 with 1 Axes>"
      ]
     },
     "metadata": {},
     "output_type": "display_data"
    }
   ],
   "source": [
    "mm_per_in = 25.4\n",
    "scaling_factor = 1.23\n",
    "\n",
    "target_width_in = (90/scaling_factor) / mm_per_in\n",
    "target_height_in = (45/scaling_factor) /mm_per_in\n",
    "\n",
    "width_ratios = [1]\n",
    "fig, axs = plt.subplots(1, 1, figsize=(target_width_in, target_height_in),\n",
    "                        gridspec_kw={'width_ratios': width_ratios})\n",
    "\n",
    "plot_redi_rna_editing_burden(filtered_redi_med, axs, show_table=True) #filtered_redi_med\n",
    "\n",
    "#plt.savefig(os.path.join(image_dir, \"manuscript\", \"2024-10-23\", \"figure2e_med_2024-10-23.svg\"), bbox_inches = \"tight\")\n",
    "#plt.savefig(os.path.join(image_dir, \"manuscript\", \"2024-10-23\", \"figure2e_med_2024-10-23.png\"), dpi=300, bbox_inches = \"tight\")\n",
    "plt.show()"
   ]
  },
  {
   "cell_type": "markdown",
   "metadata": {},
   "source": [
    "## Figure 2F"
   ]
  },
  {
   "cell_type": "code",
   "execution_count": 42,
   "metadata": {},
   "outputs": [
    {
     "name": "stdout",
     "output_type": "stream",
     "text": [
      "25\n",
      "152\n"
     ]
    }
   ],
   "source": [
    "# Most recent run on 09-17-24; 09-05-24; Ran this on 06-19-24\n",
    "iqr_quantile = 0\n",
    "filtered_data_fasta_min_lt50 = all_mfe_maxentscan[\n",
    "    (all_mfe_maxentscan[\"exon_type\"] == \"skippable\") &\n",
    "    (all_mfe_maxentscan[\"inversion\"] == \"inverted\") & \n",
    "    (all_mfe_maxentscan[\"tissue_psi_min\"] <= 50) &\n",
    "    (all_mfe_maxentscan[\"tissue_psi_min\"] >= 10) &\n",
    "    (all_mfe_maxentscan[\"tissue_psi_iqr\"] >= all_mfe_maxentscan[\"tissue_psi_iqr\"].quantile(q=iqr_quantile))\n",
    "]\n",
    "\n",
    "filtered_data_fasta_min_gt50 = all_mfe_maxentscan[\n",
    "    (all_mfe_maxentscan[\"exon_type\"] == \"skippable\") &\n",
    "    (all_mfe_maxentscan[\"inversion\"] == \"inverted\") & \n",
    "    (all_mfe_maxentscan[\"tissue_psi_min\"] <= 90) &\n",
    "    (all_mfe_maxentscan[\"tissue_psi_min\"] > 50) &\n",
    "    (all_mfe_maxentscan[\"tissue_psi_iqr\"] >= all_mfe_maxentscan[\"tissue_psi_iqr\"].quantile(q=iqr_quantile))\n",
    "]\n",
    "\n",
    "# (BedTool.from_dataframe(\n",
    "#     filtered_data_fasta_min_lt50[filtered_data_fasta_min_lt50[\"MES_category\"] == \"WS\"][\n",
    "#     [\"Chromosome\", \"upstream_alu_start\", \"downstream_alu_end\", \"Strand\"]\n",
    "#     ]\n",
    "# ).getfasta(fi=ref_fasta, s=True, fo=os.path.join(xstreme_dir, \"WS_inv_skippable_minpsi_10_50.fa\")))\n",
    "\n",
    "# (BedTool.from_dataframe(\n",
    "#     filtered_data_fasta_min_gt50[filtered_data_fasta_min_gt50[\"MES_category\"] == \"WS\"][\n",
    "#     [\"Chromosome\", \"upstream_alu_start\", \"downstream_alu_end\", \"Strand\"]\n",
    "#     ]\n",
    "# ).getfasta(fi=ref_fasta, s=True, fo=os.path.join(xstreme_dir, \"WS_inv_skippable_minpsi_50_90.fa\")))\n",
    "\n",
    "# Most recent run on 10-18-24; 09-17-24; 09-05-24; Ran this on 06-19-24\n",
    "iqr_quantile = 0\n",
    "filtered_data_fasta_lt50 = all_mfe_maxentscan[\n",
    "    (all_mfe_maxentscan[\"exon_type\"] == \"skippable\") &\n",
    "    (all_mfe_maxentscan[\"inversion\"] == \"inverted\") & \n",
    "    (all_mfe_maxentscan[\"tissue_psi_median\"] <= 50) &\n",
    "    (all_mfe_maxentscan[\"tissue_psi_min\"] >= 10) &\n",
    "    (all_mfe_maxentscan[\"tissue_psi_min\"] <= 90) &\n",
    "    (all_mfe_maxentscan[\"tissue_psi_iqr\"] >= all_mfe_maxentscan[\"tissue_psi_iqr\"].quantile(q=iqr_quantile))\n",
    "]\n",
    "\n",
    "filtered_data_fasta_gt50 = all_mfe_maxentscan[\n",
    "    (all_mfe_maxentscan[\"exon_type\"] == \"skippable\") &\n",
    "    (all_mfe_maxentscan[\"inversion\"] == \"inverted\") & \n",
    "    (all_mfe_maxentscan[\"tissue_psi_min\"] >= 10) &\n",
    "    (all_mfe_maxentscan[\"tissue_psi_min\"] <= 90) &\n",
    "    (all_mfe_maxentscan[\"tissue_psi_median\"] > 50) &\n",
    "    (all_mfe_maxentscan[\"tissue_psi_iqr\"] >= all_mfe_maxentscan[\"tissue_psi_iqr\"].quantile(q=iqr_quantile))\n",
    "]\n",
    "\n",
    "#(BedTool.from_dataframe(\n",
    "#    filtered_data_fasta_lt50[filtered_data_fasta_lt50[\"MES_category\"] == \"WS\"][\n",
    "#    [\"Chromosome\", \"upstream_alu_start\", \"downstream_alu_end\", \"exon_gene\", \"level_7\", \"Strand\"]\n",
    "#    ]\n",
    "#).getfasta(fi=ref_fasta, s=True, fo=os.path.join(xstreme_dir, \"WS_inv_skippable_minpsi_10-90_medlt50.fa\")))\n",
    "\n",
    "#(BedTool.from_dataframe(\n",
    "#    filtered_data_fasta_gt50[filtered_data_fasta_gt50[\"MES_category\"] == \"WS\"][\n",
    "#    [\"Chromosome\", \"upstream_alu_start\", \"downstream_alu_end\", \"exon_gene\", \"level_7\", \"Strand\"]\n",
    "#    ]\n",
    "#).getfasta(fi=ref_fasta, s=True, fo=os.path.join(xstreme_dir, \"WS_inv_skippable_minpsi_10-90_medgt50.fa\")))\n",
    "\n",
    "print(len(filtered_data_fasta_lt50[filtered_data_fasta_lt50[\"MES_category\"] == \"WS\"]))\n",
    "print(len(filtered_data_fasta_gt50[filtered_data_fasta_gt50[\"MES_category\"]==\"WS\"]))"
   ]
  },
  {
   "cell_type": "code",
   "execution_count": 43,
   "metadata": {},
   "outputs": [],
   "source": [
    "iralu_dir = os.path.join(dataset_dir, \"sea_output\")\n",
    "\n",
    "sea_medlt50_tsv = os.path.join(iralu_dir, \"sea-WS_inv_skippable_minpsi_10-90_medlt50.tsv\")\n",
    "sea_medgt50_tsv = os.path.join(iralu_dir, \"sea-WS_inv_skippable_minpsi_10-90_medgt50.tsv\")\n",
    "\n",
    "sea_medlt50_df = pd.read_csv(sea_medlt50_tsv, sep=\"\\t\", comment=\"#\")\n",
    "sea_medgt50_df = pd.read_csv(sea_medgt50_tsv, sep=\"\\t\", comment=\"#\")\n",
    "\n",
    "sea_medlt50_df['ID_RBP'] = sea_medlt50_df['ID'].str.split('(').str[0]\n",
    "sea_medgt50_df['ID_RBP'] = sea_medgt50_df['ID'].str.split('(').str[0]\n",
    "\n",
    "sea_medlt50_df[\"NEG_LOG_EVALUE\"] = -sea_medlt50_df[\"LOG_EVALUE\"]\n",
    "sea_medgt50_df[\"NEG_LOG_EVALUE\"] = -sea_medgt50_df[\"LOG_EVALUE\"]\n",
    "sea_medlt50_df[\"neg_log10_eval\"] = -np.log10(sea_medlt50_df[\"EVALUE\"])\n",
    "sea_medgt50_df[\"neg_log10_eval\"] = -np.log10(sea_medgt50_df[\"EVALUE\"])\n",
    "\n",
    "sea_medlt50_df[\"NEG_LOG_QVALUE\"] = -sea_medlt50_df[\"LOG_QVALUE\"]\n",
    "sea_medgt50_df[\"NEG_LOG_QVALUE\"] = -sea_medgt50_df[\"LOG_QVALUE\"]\n",
    "sea_medlt50_df[\"neg_log10_qval\"] = -np.log10(sea_medlt50_df[\"QVALUE\"])\n",
    "sea_medgt50_df[\"neg_log10_qval\"] = -np.log10(sea_medgt50_df[\"QVALUE\"])\n",
    "sea_medlt50_df[\"neg_ln_qval\"] = -np.log(sea_medlt50_df[\"QVALUE\"])\n",
    "sea_medgt50_df[\"neg_ln_qval\"] = -np.log(sea_medgt50_df[\"QVALUE\"])"
   ]
  },
  {
   "cell_type": "code",
   "execution_count": 44,
   "metadata": {},
   "outputs": [],
   "source": [
    "protein_groups = {\n",
    "    'HNRNP': ['HNRNPA0', 'HNRNPA1', 'HNRNPA2B1', 'HNRNPC', 'HNRNPD', 'HNRNPDL', 'HNRNPF', \n",
    "              'HNRNPH1', 'HNRNPH2', 'HNRNPH3', 'HNRNPK', 'HNRNPL', 'HNRNPLL'],\n",
    "    'PCBP': ['PCBP1', 'PCBP2'],\n",
    "    'SRSF': ['SRSF1', 'SRSF2', 'SRSF3', 'SRSF5', 'SRSF6', 'SRSF7', 'SRSF9'],\n",
    "    'ELAVL': ['ELAVL2', 'ELAVL4'],\n",
    "    'RBM': ['RBM4', 'RBM5', 'RBMX'],\n",
    "    'TRA2': ['TRA2A', 'TRA2B'],\n",
    "    'SRP': ['SRP19', 'SRP68'],\n",
    "    'PUM': ['PUM1', 'PUM2'],\n",
    "    'TIA': ['TIA1', 'TIAL1'],\n",
    "    'Other': ['CELF2', 'DAZAP1', 'KHSRP', 'MBNL1', 'NELFE', 'NOVA1', 'PABPC1', \n",
    "              'PTBP1', 'SF1', 'SFPQ', 'SNRPA', 'SSB', 'TUT1', 'YBX1', 'ZFP36', 'ZRANB2']\n",
    "}\n",
    "protein_groups_counts = {f\"{x} (m={len(y)})\":y for x,y in protein_groups.items()}\n",
    "\n",
    "#palette = sns.color_palette(\"Set2\", n_colors=len(protein_groups))  # 'tab10', 'Set2', 'Paired'\n",
    "#group_colours = dict(zip(protein_groups.keys(), palette))\n",
    "\n",
    "palette = sns.color_palette(\"Set3\", n_colors=len(protein_groups_counts))  # 'tab10', 'Set2', 'Paired'\n",
    "group_colours = dict(zip(protein_groups_counts.keys(), palette))\n",
    "\n",
    "def assign_protein_group(id_rbp):\n",
    "    \"\"\"\n",
    "    Assign RBP to group for hue colour.\n",
    "    \"\"\"\n",
    "    for group, proteins in protein_groups_counts.items():\n",
    "        if id_rbp in proteins:\n",
    "            return group\n",
    "    return 'Unknown'  # In case there's an ID not covered\n",
    "\n",
    "def plot_scatter_motifs(df, col, ax=None):\n",
    "    \"\"\"\n",
    "    Plot identical cols from TSV1 vs TSV2 output of SEA (MEME Suite).\n",
    "    col: neg_log10_qval, neg_log10_adjusted_pval_fisher, min_rank, avg_rank\n",
    "    \"\"\"\n",
    "    tick_params_width = 0.25\n",
    "    tick_params_length = 1\n",
    "    tick_params_pad = 2\n",
    "    axis_label_pad = 2\n",
    "\n",
    "    fontsize_min = 5\n",
    "    plt.rcParams['font.family'] = 'DejaVu Sans'\n",
    "    \n",
    "    df['Group'] = df['ID_RBP'].apply(assign_protein_group)\n",
    "    \n",
    "    if col == \"neg_log10_qval\":\n",
    "        threshold_val = -np.log10(0.05)\n",
    "        axis_label = \"-log10(Q-value)\"\n",
    "    elif col == \"neg_log10_adjusted_pval_fisher\":\n",
    "        #threshold_val = -np.log10(0.05)\n",
    "        threshold_val = 15\n",
    "        axis_label = \"-log10(p_adj)\"\n",
    "    elif col == \"min_rank\":\n",
    "        threshold_val = 0\n",
    "        axis_label = \"Minimum rank\"\n",
    "    elif col == \"avg_rank\":\n",
    "        threshold_val = 0\n",
    "        axis_label = \"Average rank\"\n",
    "\n",
    "    #significant_points = df[(df[f\"{col}_tsv1\"] > threshold_val) & \n",
    "    #                        (df[f\"{col}_tsv2\"] > threshold_val)]\n",
    "    significant_points = df[(df[f\"{col}_tsv1\"] > threshold_val) | \n",
    "                            (df[f\"{col}_tsv2\"] > threshold_val)]\n",
    "    \n",
    "    #ax = sns.scatterplot(data=df,\n",
    "    sns.scatterplot(data=df,\n",
    "                    x=f\"{col}_tsv1\",\n",
    "                    y=f\"{col}_tsv2\", \n",
    "                    hue='Group',\n",
    "                    palette=group_colours,\n",
    "                    s=2,legend=True, ax=ax)\n",
    "\n",
    "    for _, row in significant_points.iterrows():\n",
    "        jitter_x = row[f\"{col}_tsv1\"] #+ np.random.uniform(0, 0.1)\n",
    "        jitter_y = row[f\"{col}_tsv2\"] + np.random.uniform(0, 0.2)\n",
    "        ax.text(jitter_x, jitter_y, row['ID_RBP'], fontsize=fontsize_min, ha='center', va='bottom')\n",
    "    \n",
    "    ax.set_ylim(-3, 43)\n",
    "    ax.set_xlim(-3, 53)\n",
    "    \n",
    "    ax.set_xticks([0, 10, 20, 30, 40, 50])\n",
    "    ax.set_yticks([0, 10, 20, 30, 40])\n",
    "\n",
    "    xlim = ax.get_xlim()\n",
    "    ylim = ax.get_ylim()\n",
    "    min_limit = min(xlim[0], ylim[0])\n",
    "    max_limit = max(xlim[1], ylim[1])\n",
    "\n",
    "    if col not in [\"min_rank\", \"avg_rank\"]:\n",
    "        ax.axvline(-np.log10(0.05), color='steelblue', linestyle='--', linewidth=0.5)\n",
    "        ax.axhline(-np.log10(0.05), color='steelblue', linestyle='--', linewidth=0.5)\n",
    "    else:\n",
    "        ax.invert_xaxis()\n",
    "        ax.invert_yaxis()\n",
    "    ax.plot([min_limit, max_limit], [min_limit, max_limit], linestyle='--', color='gray', linewidth=0.5)\n",
    "\n",
    "    ax.set_ylabel(f\"{axis_label} PSI > 50%\", fontsize=fontsize_min, labelpad=axis_label_pad)\n",
    "    ax.set_xlabel(f\"{axis_label} PSI < 50%\", fontsize=fontsize_min, labelpad=axis_label_pad)\n",
    "\n",
    "    #ax.tick_params(axis='x', \n",
    "    #               labelsize=fontsize_min, \n",
    "    #               length=tick_params_length, \n",
    "    #               width=tick_params_width, \n",
    "    #               pad=tick_params_pad)\n",
    "    #ax.tick_params(axis='y', \n",
    "    #               labelsize=fontsize_min, \n",
    "    #               length=tick_params_length, \n",
    "    #               width=tick_params_width, \n",
    "    #               pad=tick_params_pad)\n",
    "\n",
    "    #ax.set_ylim(-99, 500)\n",
    "    ax.tick_params(axis='both', which='both',\n",
    "                   labelsize=fontsize_min, \n",
    "                   length=tick_params_length, \n",
    "                   width=tick_params_width, \n",
    "                   pad=tick_params_pad)\n",
    "    \n",
    "    #plt.xlabel()\n",
    "    #plt.ylabel()\n",
    "    #plt.legend(title=\"\", bbox_to_anchor=(1.05, 1), loc='upper left')\n",
    "\n",
    "    custom_order = sorted(protein_groups_counts.keys(), key=lambda x: -int(x.split('=')[1][:-1]))\n",
    "    \n",
    "    handles, labels = ax.get_legend_handles_labels()\n",
    "    ordered_handles_labels = [(h, l) for l, h in zip(labels, handles) if l in custom_order]\n",
    "    ordered_handles_labels.sort(key=lambda x: custom_order.index(x[1]))\n",
    "    ordered_handles, ordered_labels = zip(*ordered_handles_labels)\n",
    "\n",
    "    ax.legend(ordered_handles, ordered_labels, title='', fancybox=True, shadow=False, borderaxespad=0., \n",
    "              fontsize=fontsize_min, markerscale=0.3, loc='center left', bbox_to_anchor=(1.05, 0.5))\n",
    "    \n",
    "    for spine in ax.spines.values():\n",
    "        spine.set_linewidth(0.25)\n",
    "    \n",
    "    coordinates_df = df[['ID_RBP', f\"{col}_tsv1\", f\"{col}_tsv2\"]]\n",
    "    coordinates_df.reset_index(drop=True, inplace=True)"
   ]
  },
  {
   "cell_type": "code",
   "execution_count": 45,
   "metadata": {},
   "outputs": [],
   "source": [
    "# select the row with the maximum 'LOG_EVALUE' for each ID (RBP)\n",
    "sea_medlt50_df_max = sea_medlt50_df.loc[sea_medlt50_df.groupby('ID_RBP')['neg_log10_qval'].idxmax()]\n",
    "sea_medgt50_df_max = sea_medgt50_df.loc[sea_medgt50_df.groupby('ID_RBP')['neg_log10_qval'].idxmax()]\n",
    "\n",
    "sea_medlt50_df_min = sea_medlt50_df.loc[sea_medlt50_df.groupby('ID_RBP')['neg_log10_qval'].idxmin()]\n",
    "sea_medgt50_df_min = sea_medgt50_df.loc[sea_medgt50_df.groupby('ID_RBP')['neg_log10_qval'].idxmin()]\n",
    "\n",
    "\n",
    "def fishers_method_group(group):\n",
    "    combined_pval = combine_pvalues(group['PVALUE'], method='fisher')[1]\n",
    "    return pd.Series({'combined_pval_fisher': combined_pval})\n",
    "\n",
    "\n",
    "sea_medlt50_df_combinedp = sea_medlt50_df.groupby('ID_RBP').apply(fishers_method_group, include_groups=False).reset_index()\n",
    "sea_medgt50_df_combinedp = sea_medgt50_df.groupby('ID_RBP').apply(fishers_method_group, include_groups=False).reset_index()\n",
    "\n",
    "sea_medlt50_df_combinedp_bh = multipletests(sea_medlt50_df_combinedp['combined_pval_fisher'], method='fdr_bh')\n",
    "sea_medgt50_df_combinedp_bh = multipletests(sea_medgt50_df_combinedp['combined_pval_fisher'], method='fdr_bh')\n",
    "sea_medlt50_df_combinedp['adjusted_pval_fisher'] = sea_medlt50_df_combinedp_bh[1]\n",
    "sea_medgt50_df_combinedp['adjusted_pval_fisher'] = sea_medgt50_df_combinedp_bh[1]\n",
    "sea_medlt50_df_combinedp['neg_log10_adjusted_pval_fisher'] = (\n",
    "    -np.log10(sea_medlt50_df_combinedp['adjusted_pval_fisher'])\n",
    ")\n",
    "sea_medgt50_df_combinedp['neg_log10_adjusted_pval_fisher'] = (\n",
    "    -np.log10(sea_medgt50_df_combinedp['adjusted_pval_fisher'])\n",
    ")\n",
    "\n",
    "min_rank_lt50 = sea_medlt50_df.groupby('ID_RBP')['RANK'].min().reset_index()\n",
    "min_rank_gt50 = sea_medgt50_df.groupby('ID_RBP')['RANK'].min().reset_index()\n",
    "min_rank_lt50 = min_rank_lt50.rename(columns={'RANK': 'min_rank_tsv1'})\n",
    "min_rank_gt50 = min_rank_gt50.rename(columns={'RANK': 'min_rank_tsv2'})\n",
    "\n",
    "avg_rank_lt50 = sea_medlt50_df.groupby('ID_RBP')['RANK'].mean().reset_index()\n",
    "avg_rank_gt50 = sea_medgt50_df.groupby('ID_RBP')['RANK'].mean().reset_index()\n",
    "avg_rank_lt50 = avg_rank_lt50.rename(columns={'RANK': 'avg_rank_tsv1'})\n",
    "avg_rank_gt50 = avg_rank_gt50.rename(columns={'RANK': 'avg_rank_tsv2'})\n",
    "\n",
    "merged_maxq_df = pd.merge(sea_medlt50_df_max, sea_medgt50_df_max, on='ID_RBP', suffixes=('_tsv1', '_tsv2'))\n",
    "merged_minq_df = pd.merge(sea_medlt50_df_min, sea_medgt50_df_min, on='ID_RBP', suffixes=('_tsv1', '_tsv2'))\n",
    "merged_combinedp_df = pd.merge(sea_medlt50_df_combinedp, sea_medgt50_df_combinedp, on='ID_RBP', suffixes=('_tsv1', '_tsv2'))\n",
    "merged_minrank_df = pd.merge(min_rank_lt50, min_rank_gt50, on='ID_RBP')\n",
    "merged_avgrank_df = pd.merge(avg_rank_lt50, avg_rank_gt50, on='ID_RBP')"
   ]
  },
  {
   "cell_type": "code",
   "execution_count": 46,
   "metadata": {},
   "outputs": [
    {
     "data": {
      "image/png": "[encoded data removed]",
      "text/plain": [
       "<Figure size 160.041x192.049 with 1 Axes>"
      ]
     },
     "metadata": {},
     "output_type": "display_data"
    }
   ],
   "source": [
    "mm_per_in = 25.4\n",
    "scaling_factor = 1.23\n",
    "\n",
    "target_width_in = (50/scaling_factor) / mm_per_in\n",
    "target_height_in = (60/scaling_factor) /mm_per_in\n",
    "\n",
    "width_ratios = [1]\n",
    "fig, axs = plt.subplots(1, 1, figsize=(target_width_in, target_height_in),\n",
    "                        gridspec_kw={'width_ratios': width_ratios})\n",
    "\n",
    "plot_scatter_motifs(merged_combinedp_df, \"neg_log10_adjusted_pval_fisher\", ax=axs)\n",
    "\n",
    "#plt.savefig(os.path.join(image_dir, \"manuscript\", \"2024-10-23\", \"figure2f_2024-10-23.svg\"), bbox_inches = \"tight\")\n",
    "#plt.savefig(os.path.join(image_dir, \"manuscript\", \"2024-10-23\", \"figure2f_2024-10-23.png\"), dpi=300, bbox_inches = \"tight\")\n",
    "plt.show()"
   ]
  },
  {
   "cell_type": "code",
   "execution_count": 47,
   "metadata": {},
   "outputs": [
    {
     "data": {
      "text/plain": [
       "2.8641305e-06"
      ]
     },
     "execution_count": 47,
     "metadata": {},
     "output_type": "execute_result"
    }
   ],
   "source": [
    "(5.728261e-07)*5"
   ]
  }
 ],
 "metadata": {
  "kernelspec": {
   "display_name": "iralu_01_2",
   "language": "python",
   "name": "python3"
  },
  "language_info": {
   "codemirror_mode": {
    "name": "ipython",
    "version": 3
   },
   "file_extension": ".py",
   "mimetype": "text/x-python",
   "name": "python",
   "nbconvert_exporter": "python",
   "pygments_lexer": "ipython3",
   "version": "3.9.18"
  }
 },
 "nbformat": 4,
 "nbformat_minor": 2
}
