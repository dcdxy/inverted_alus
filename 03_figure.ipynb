{
 "cells": [
  {
   "cell_type": "markdown",
   "id": "4f73a1c2",
   "metadata": {},
   "source": [
    "# Figure 3"
   ]
  },
  {
   "cell_type": "markdown",
   "id": "c84c7d30",
   "metadata": {},
   "source": [
    "## Jeonghyeon Kim"
   ]
  },
  {
   "cell_type": "code",
   "execution_count": 1,
   "id": "319f270a",
   "metadata": {},
   "outputs": [],
   "source": [
    "import os\n",
    "import numpy as np\n",
    "import pandas as pd\n",
    "from itertools import combinations\n",
    "from scipy.stats import fisher_exact\n",
    "import seaborn as sns\n",
    "import matplotlib.pyplot as plt\n",
    "from matplotlib.lines import Line2D\n",
    "import pybedtools\n",
    "from collections import defaultdict"
   ]
  },
  {
   "cell_type": "code",
   "execution_count": 2,
   "id": "fa2f704e",
   "metadata": {},
   "outputs": [
    {
     "name": "stdout",
     "output_type": "stream",
     "text": [
      "python version 3.9.13 (main, Aug 25 2022, 18:29:29) \n",
      "[Clang 12.0.0 ]\n",
      "pandas version 1.4.3\n",
      "scipy version 1.10.0\n"
     ]
    }
   ],
   "source": [
    "import sys\n",
    "import scipy\n",
    "print(\"python version\", sys.version)\n",
    "print(\"pandas version\", pd.__version__)\n",
    "print(\"scipy version\", scipy.__version__)"
   ]
  },
  {
   "cell_type": "code",
   "execution_count": 3,
   "id": "f3975e2e",
   "metadata": {},
   "outputs": [
    {
     "name": "stdout",
     "output_type": "stream",
     "text": [
      "Selected Jupyter core packages...\n",
      "IPython          : 8.3.0\n",
      "ipykernel        : 6.9.1\n",
      "ipywidgets       : 7.6.5\n",
      "jupyter_client   : 7.2.2\n",
      "jupyter_core     : 4.10.0\n",
      "jupyter_server   : not installed\n",
      "jupyterlab       : not installed\n",
      "nbclient         : 0.5.13\n",
      "nbconvert        : 6.4.4\n",
      "nbformat         : 5.3.0\n",
      "notebook         : 6.4.11\n",
      "qtconsole        : 5.3.0\n",
      "traitlets        : 5.1.1\n"
     ]
    }
   ],
   "source": [
    "!jupyter --version"
   ]
  },
  {
   "cell_type": "markdown",
   "id": "87836106",
   "metadata": {},
   "source": [
    "## Paths"
   ]
  },
  {
   "cell_type": "code",
   "execution_count": 4,
   "id": "86d793a1",
   "metadata": {},
   "outputs": [],
   "source": [
    "data_dir       = \"../\"\n",
    "pickle_dir     = os.path.join(data_dir, \"pickles/\")\n",
    "dataset_dir    = os.path.join(data_dir, \"datasets/\")"
   ]
  },
  {
   "cell_type": "code",
   "execution_count": 13,
   "id": "00d93c60",
   "metadata": {},
   "outputs": [],
   "source": [
    "alu_cols       = ['chrom', 'start', 'end', 'subfamily', 'id']\n",
    "\n",
    "hs_alu_file    = os.path.join(dataset_dir, \"liftover_total.tsv\")\n",
    "hs_alu_df      = pd.read_csv(hs_alu_file, sep='\\t', header=None, usecols=[0,1,2,3,4], names=alu_cols)\n",
    "\n",
    "total_alu_file = os.path.join(dataset_dir, \"SINE_Alu_sorted.bed\")\n",
    "total_alu_df   = pd.read_csv(total_alu_file, sep='\\t', header=None, usecols=[0,1,2,3,14], names=alu_cols)\n",
    "\n",
    "hg38_chr_len_file = os.path.join(dataset_dir, \"chr_file.bed\")\n",
    "hg38_chr_len      = pd.read_csv(hg38_chr_len_file, sep='\\t', names=['chrom','length'], usecols=[0,2])"
   ]
  },
  {
   "cell_type": "code",
   "execution_count": 14,
   "id": "0e56225b",
   "metadata": {},
   "outputs": [
    {
     "name": "stdout",
     "output_type": "stream",
     "text": [
      "The number of hominoid specific Alus: 67126\n",
      "The number of total Alus            : 1181164\n"
     ]
    }
   ],
   "source": [
    "print(f\"The number of hominoid specific Alus: {len(hs_alu_df)}\")\n",
    "print(f\"The number of total Alus            : {len(total_alu_df)}\")"
   ]
  },
  {
   "cell_type": "markdown",
   "id": "69327b54",
   "metadata": {},
   "source": [
    "## Figure 3-C"
   ]
  },
  {
   "cell_type": "code",
   "execution_count": 19,
   "id": "872ee2c6",
   "metadata": {},
   "outputs": [],
   "source": [
    "def process_data(alu_data):\n",
    "    # Step 1: Split data into subfamilies AluJ, AluS, AluY, and others\n",
    "    # Creates a dictionary with each subfamily's data as a separate dataframe\n",
    "    alu_subfamilies = {\n",
    "        'AluJ': alu_data[alu_data['subfamily'].str.startswith('AluJ')],\n",
    "        'AluS': alu_data[alu_data['subfamily'].str.startswith('AluS')],\n",
    "        'AluY': alu_data[alu_data['subfamily'].str.startswith('AluY')],\n",
    "        # The tilde (~) operator creates a NOT condition for elements not in any of the above families\n",
    "        'Others': alu_data[~alu_data['subfamily'].str.startswith(('AluJ', 'AluS', 'AluY'))]\n",
    "    }\n",
    "\n",
    "    # Step 2: Calculate the sum of lengths for each chromosome within each subfamily\n",
    "    # Creates a nested defaultdict to store lengths: {chromosome -> {subfamily -> length}}\n",
    "    alu_lengths = defaultdict(lambda: defaultdict(int))\n",
    "    for subfamily, df in alu_subfamilies.items():\n",
    "        for chrom, chrom_data in df.groupby('chrom'):\n",
    "            # Calculate total length by summing (end - start) for each element\n",
    "            total_length = (chrom_data['end'] - chrom_data['start']).sum()\n",
    "            alu_lengths[chrom][subfamily] = total_length\n",
    "\n",
    "    # Step 3: Create dictionary of chromosome lengths from the provided data\n",
    "    chrom_lengths = {\n",
    "        chrom: int(hg38_chr_len.loc[hg38_chr_len['chrom'] == chrom, 'length'].values[0])\n",
    "        for chrom in hg38_chr_len['chrom'].unique()\n",
    "    }\n",
    "\n",
    "    # Step 4: Calculate coverage (Alu length / chromosome length) for each subfamily\n",
    "    coverage_results = defaultdict(dict)\n",
    "    for chrom, subfam_lengths in alu_lengths.items():\n",
    "        for subfamily, length in subfam_lengths.items():\n",
    "            coverage_results[chrom][subfamily] = length / chrom_lengths[chrom]\n",
    "\n",
    "    # Step 5: Create and format the final dataframe\n",
    "    # Convert coverage results to dataframe and fill NA values with 0\n",
    "    coverage_df = pd.DataFrame(coverage_results).T.fillna(0)\n",
    "    # Merge with chromosome length data\n",
    "    coverage_df = hg38_chr_len.merge(\n",
    "        coverage_df.reset_index().rename(columns={'index':'chrom'}),\n",
    "        on='chrom'\n",
    "    )\n",
    "\n",
    "    # Step 6: Calculate genome-wide average coverage\n",
    "    total_genome_length = coverage_df['length'].sum()\n",
    "    # Weight each chromosome's coverage by its length\n",
    "    avg_coverage = {\n",
    "        subfamily: (coverage_df[subfamily] * coverage_df['length']).sum() / total_genome_length\n",
    "        for subfamily in ['AluJ', 'AluS', 'AluY', 'Others']\n",
    "    }\n",
    "    \n",
    "    # Add genome-wide averages as a new row\n",
    "    avg_coverage[\"chrom\"] = \"Genome\"\n",
    "    coverage_df = coverage_df.append(avg_coverage, ignore_index=True)\n",
    "    coverage_df = coverage_df.set_index('chrom')\n",
    "    \n",
    "    return coverage_df"
   ]
  },
  {
   "cell_type": "code",
   "execution_count": 20,
   "id": "90a89cd3",
   "metadata": {},
   "outputs": [
    {
     "name": "stderr",
     "output_type": "stream",
     "text": [
      "/var/folders/b9/2y20mh5s2yd2qvr04y0hh8bh0000gn/T/ipykernel_53707/3975691659.py:52: FutureWarning: The frame.append method is deprecated and will be removed from pandas in a future version. Use pandas.concat instead.\n",
      "  coverage_df = coverage_df.append(avg_coverage, ignore_index=True)\n",
      "/var/folders/b9/2y20mh5s2yd2qvr04y0hh8bh0000gn/T/ipykernel_53707/3975691659.py:52: FutureWarning: The frame.append method is deprecated and will be removed from pandas in a future version. Use pandas.concat instead.\n",
      "  coverage_df = coverage_df.append(avg_coverage, ignore_index=True)\n"
     ]
    }
   ],
   "source": [
    "coverage_df_all = process_data(total_alu_df)\n",
    "coverage_df_hs = process_data(hs_alu_df)\n",
    "coverage_df_ratio = coverage_df_hs/coverage_df_all"
   ]
  },
  {
   "cell_type": "code",
   "execution_count": 21,
   "id": "4a2fe4b4",
   "metadata": {},
   "outputs": [
    {
     "data": {
      "image/png": "[encoded data removed]",
      "text/plain": [
       "<Figure size 223.2x158.4 with 1 Axes>"
      ]
     },
     "metadata": {
      "needs_background": "light"
     },
     "output_type": "display_data"
    },
    {
     "data": {
      "image/png": "[encoded data removed]",
      "text/plain": [
       "<Figure size 252x144 with 2 Axes>"
      ]
     },
     "metadata": {
      "needs_background": "light"
     },
     "output_type": "display_data"
    }
   ],
   "source": [
    "# Define custom colors for each subfamily\n",
    "subfamily_colors = {'AluJ': 'orange', 'AluS': 'green', 'AluY': 'blue'}\n",
    "\n",
    "# Ensure chromosome ordering\n",
    "chrom_order = [f\"chr{i}\" for i in range(1, 23)] + [\"chrX\", \"chrY\", \"Genome\"]\n",
    "coverage_df_ratio = coverage_df_ratio.loc[chrom_order]\n",
    "\n",
    "# Plotting all Alu subfamilies on the same plot for each chromosome\n",
    "plt.figure(figsize=(3.1, 2.2))  # Set width to 6 (same width for both plots)\n",
    "for subfamily in ['AluJ', 'AluS', 'AluY']:\n",
    "    plt.plot(coverage_df_ratio.index, coverage_df_ratio[subfamily], marker='o', markersize=1, linewidth=0.3,\n",
    "             color=subfamily_colors[subfamily], label=subfamily)\n",
    "\n",
    "plt.ylabel(\"Coverage ratio\", fontsize=5)\n",
    "#plt.title(\"Alu Coverage Ratio (Hominoid-specific Alus / Total Alus)\", fontsize=5)\n",
    "plt.xticks(rotation=45, fontsize=5)\n",
    "plt.yticks(fontsize=5)\n",
    "plt.ylim(0, 0.35)\n",
    "plt.legend(fontsize=5, loc='upper center', bbox_to_anchor=(0.5, 1.17), ncol=3)\n",
    "plt.tight_layout()\n",
    "plt.savefig('./coverage_ratio.svg', format=\"svg\")\n",
    "\n",
    "plt.show()\n",
    "\n",
    "# Assuming you have coverage_df_hs and coverage_df_all dataframes properly set up\n",
    "coverage_df_hs = coverage_df_hs.loc[chrom_order]\n",
    "coverage_df_all = coverage_df_all.loc[chrom_order]\n",
    "\n",
    "# Bar plot\n",
    "fig, ax1 = plt.subplots(figsize=(3.5, 2))  # Ensure same width\n",
    "bar_width = 0.23  # Adjust this width to match the plot visually\n",
    "x = np.arange(len(coverage_df_hs.index))  # the label locations\n",
    "\n",
    "# Plotting each subfamily's coverage on the primary y-axis with full opacity\n",
    "for i, subfamily in enumerate(['AluJ', 'AluS', 'AluY']):\n",
    "    ax1.bar(x + i * bar_width, coverage_df_hs[subfamily], width=bar_width, \n",
    "            color=subfamily_colors[subfamily], label=subfamily)\n",
    "\n",
    "ax1.set_ylabel(\"Coverage (Hominoid-specific Alus)\", fontsize=5)\n",
    "#ax1.set_title(\"Alu Coverage Proportion by Chromosome for All Subfamilies\", fontsize=5)\n",
    "ax1.set_xticks(x + bar_width)  # Adjust for bar width\n",
    "ax1.set_xticklabels(coverage_df_hs.index, rotation=45, fontsize=5)\n",
    "ax1.set_ylim(0, 0.05)\n",
    "ax1.tick_params(axis='y', labelsize=5)\n",
    "\n",
    "# Create a secondary y-axis for total coverage values, with transparent colors\n",
    "ax2 = ax1.twinx()\n",
    "for i, subfamily in enumerate(['AluJ', 'AluS', 'AluY']):\n",
    "    ax2.bar(x + i * bar_width, coverage_df_all[subfamily], width=bar_width, \n",
    "            color=subfamily_colors[subfamily], alpha=0.25, label=subfamily)\n",
    "\n",
    "# Set custom limits for the second y-axis\n",
    "total_coverage_min = 0  # Adjust based on minimum value for total coverage\n",
    "total_coverage_max = max(coverage_df_all[['AluJ', 'AluS', 'AluY']].max()) * 1.02  # Adjust based on data\n",
    "ax2.set_ylim(total_coverage_min, total_coverage_max)\n",
    "\n",
    "ax2.set_ylabel(\"Coverage (Total Alus)\", fontsize=5)\n",
    "ax2.tick_params(axis='y', labelsize=5)\n",
    "\n",
    "# Move legend to the upper center inside the plot\n",
    "handles_hs, _ = ax1.get_legend_handles_labels()  # Handles for the primary axis (hominoid-specific)\n",
    "handles_total, _ = ax2.get_legend_handles_labels()  # Handles for the secondary axis (total)\n",
    "\n",
    "# Create custom ordered handles and labels\n",
    "handles = [\n",
    "    handles_hs[0],  # AluJ (Hominoid-specific Alus)\n",
    "    handles_total[0],  # AluJ (Total Alus)\n",
    "    handles_hs[1],  # AluS (Hominoid-specific Alus)\n",
    "    handles_total[1],  # AluS (Total Alus)\n",
    "    handles_hs[2],  # AluY (Hominoid-specific Alus)\n",
    "    handles_total[2]   # AluY (Total Alus)\n",
    "]\n",
    "\n",
    "# Corresponding labels should follow the same order\n",
    "combined_labels = [\n",
    "    'AluJ (HS Alus)',\n",
    "    'AluJ (Total Alus)',\n",
    "    'AluS (HS Alus)',\n",
    "    'AluS (Total Alus)',\n",
    "    'AluY (HS Alus)',\n",
    "    'AluY (Total Alus)'\n",
    "]\n",
    "\n",
    "# Set legend with specified handles and labels. Use ncol=3 to have three columns.\n",
    "fig.legend(handles, combined_labels, fontsize=5, title_fontsize=5, loc='upper center',bbox_to_anchor=(0.5, 1.07), ncol=3)\n",
    "\n",
    "# Adjust layout to improve spacing\n",
    "plt.subplots_adjust(right=0.85)  # Adjust this value if needed\n",
    "plt.tight_layout()\n",
    "#plt.savefig('./Fig3c.svg', format=\"svg\")\n",
    "plt.show()"
   ]
  },
  {
   "cell_type": "markdown",
   "id": "d3f63cc2",
   "metadata": {},
   "source": [
    "## Figure 3-D"
   ]
  },
  {
   "cell_type": "code",
   "execution_count": 22,
   "id": "7d1a13c2",
   "metadata": {},
   "outputs": [],
   "source": [
    "def swarmplot_p_values(results_df, title=None, log=False, use_string=False, \n",
    "                       legend=True, legend_pos=\"bottom\", ylabel=True, ax=None):\n",
    "    \"\"\" Plot (log scale) p-values where bonferroni_reject_greater is True \n",
    "    (reached statistical significance of one-tailed FE test after Bonferonni correction).\n",
    "    \"\"\"\n",
    "    #sns.set_theme()\n",
    "    sns.set_theme(font_scale=1.2)\n",
    "    sns.set_style('ticks')\n",
    "    \n",
    "    cmap = plt.get_cmap('Spectral')\n",
    "    n_colors = 10  # Number of discrete colors\n",
    "    colors = [cmap(i) for i in np.linspace(0, 1, n_colors)]\n",
    "    bidirectional_palette = sns.color_palette(colors)\n",
    "    \n",
    "    if not ax:\n",
    "        fig, ax = plt.subplots(figsize=(1,4))\n",
    "    \n",
    "    results_df['window'] = results_df['window'].astype('category')\n",
    "    results_df[\"bonferroni_p_greater_neglog10\"] = -np.log10(results_df[\"Bonferroni_Corrected_P_Value\"])\n",
    "    \n",
    "    if not use_string:\n",
    "        x_col = \"Subfamily\"\n",
    "    elif use_string:\n",
    "        x_col = \"Subfamily\"\n",
    "    sns.swarmplot(x=x_col, y=\"bonferroni_p_greater_neglog10\", hue=\"window\", s=7, dodge=False,\n",
    "                  data=results_df, \n",
    "                  palette=bidirectional_palette, ax=ax) #y=\"bonferroni_p_greater\"\n",
    "    ax.set_xticklabels(ax.get_xticklabels(), rotation=45)\n",
    "    \n",
    "    ax.xaxis.grid(True)\n",
    "    ax.set_ylim(0,2)\n",
    "    ax.axhline(y=-np.log10(0.05), color='steelblue', linestyle='--')\n",
    "    \n",
    "    if ylabel:\n",
    "        if log:\n",
    "            #ax.set_yscale('log')\n",
    "            #ax.set_ylabel(\"Bonferroni-corrected p-value \\n(alternative: greater)\") # log(bonferroni_p_greater)\n",
    "            ax.set_ylabel(\"-log10(p_adj)\") # log(bonferroni_p_greater)\n",
    "        else:\n",
    "            ax.set_ylabel(\"Bonferroni-corrected p-value \\n(alternative: greater)\")\n",
    "    else:\n",
    "        ax.set_ylabel(None)\n",
    "\n",
    "\n",
    "    all_window_sizes = [500, 1000, 1500, 2000, 2500, 3000, 3500, 4000, 4500, 5000]\n",
    "\n",
    "        # Create custom legend handles\n",
    "    legend_handles = [Line2D([0], [0], marker='o', color='w', label=f'{ws}',\n",
    "                            markerfacecolor=col, markersize=10) for col, ws in zip(colors, all_window_sizes)]\n",
    "    #ax.set_xlabel(\"Alu subfamily\")\n",
    "    ax.set_xlabel(None)\n",
    "    if title:\n",
    "        plt.title(\"{}\".format(title))\n",
    "    \n",
    "    if legend:\n",
    "        if legend_pos == \"bottom\":\n",
    "            # ref: https://stackoverflow.com/questions/4700614\n",
    "            ax.legend(handles=legend_handles, loc='lower center', bbox_to_anchor=(0.5, -0.52), #(0.5, -0.4)\n",
    "                      ncol=5, fancybox=True, shadow=False, borderaxespad=0., \n",
    "                      fontsize=5, title=\"Window (bp)\")\n",
    "        elif legend_pos == \"right\":\n",
    "            ax.legend(handles=legend_handles, loc='upper center', bbox_to_anchor=(2.1,1.0), # (1.13, 0.1)\n",
    "                      ncol=1, fancybox=True, shadow=False, borderaxespad=0., \n",
    "                      fontsize=10, title=\"Window (bp)\")\n",
    "    else:\n",
    "        ax.legend([])\n",
    "\n",
    "\n",
    "def extract_window(df,window):\n",
    "    df = df[df.downstream_dist >= -window]\n",
    "    df = df[df.upstream_dist <= window]\n",
    "    \n",
    "    return df\n",
    "\n",
    "def extract_hominoid(dataframe, hs_alu_df):\n",
    "    keep_cols = ['exon_chr', 'exon_start', 'exon_end', 'exon_gene', 'exon_strand', 'upstream_alu_id', 'upstream_alu_start', 'upstream_alu_end', 'upstream_alu_strand',  'upstream_alu_subfamily', 'upstream_dist', \n",
    "                                                                                'downstream_alu_id', 'downstream_alu_start', 'downstream_alu_end', 'downstream_alu_strand', 'downstream_alu_subfamily', 'downstream_dist']\n",
    "\n",
    "    dataframe = dataframe[keep_cols]\n",
    "    hs_alu_upstream_df = pd.merge(dataframe, hs_alu_df['id'], how='inner', left_on=['upstream_alu_id'], right_on='id') \n",
    "    hs_alu_downstream_df = pd.merge(dataframe, hs_alu_df['id'], how='inner', left_on=['downstream_alu_id'], right_on='id')\n",
    "\n",
    "    hs_IR_alu_df = pd.concat([hs_alu_upstream_df,hs_alu_downstream_df], ignore_index=True)\n",
    "    hs_IR_alu_df = hs_IR_alu_df.drop_duplicates(['exon_chr', 'exon_start', 'exon_end', 'exon_gene', 'exon_strand', 'upstream_alu_subfamily', 'downstream_alu_subfamily', 'upstream_alu_start', 'upstream_alu_end', 'downstream_alu_start', 'downstream_alu_end'])\n",
    "\n",
    "    return hs_IR_alu_df\n",
    "\n",
    "def merge_updown(IR_all):\n",
    "    # Merges upstream and downstream Alu IDs and subfamilies into a single DataFrame\n",
    "    upstream = IR_all[['upstream_alu_id', 'upstream_alu_subfamily']].rename(columns={'upstream_alu_id':'id', 'upstream_alu_subfamily':'subfamily'})\n",
    "    downstream = IR_all[['downstream_alu_id', 'downstream_alu_subfamily']].rename(columns={'downstream_alu_id':'id', 'downstream_alu_subfamily':'subfamily'})\n",
    "    \n",
    "    return pd.concat([upstream, downstream])\n",
    "\n",
    "def count_alu_subfamily(all_alu):\n",
    "    # Merge upstream and downstream Alu subfamilies, then count occurrences\n",
    "    all_alu = merge_updown(all_alu).drop_duplicates()\n",
    "    return pd.DataFrame(all_alu.groupby('subfamily').size(), columns=['count'])\n",
    "\n",
    "def count_alu_pair(data):\n",
    "    # Count occurrences of (upstream_subfamily, downstream_subfamily) pairs\n",
    "    data['alu_pair'] = data.apply(lambda x: (x['upstream_alu_subfamily'], x['downstream_alu_subfamily']), axis=1)\n",
    "    return pd.DataFrame(data.groupby('alu_pair').size(), columns=['count'])\n",
    "\n",
    "def prepare_data(new_data, window, hs_alu_df):\n",
    "    # Extract skippable and constitutive inverted repeat data within the window\n",
    "    IR_skippable = extract_window(new_data[\"skippable_inverted\"], window)\n",
    "    IR_const = extract_window(new_data[\"constitutive_inverted\"], window)\n",
    "    \n",
    "    # Extract hominoid (human-specific) data\n",
    "    hs_IR_skippable = extract_hominoid(IR_skippable, hs_alu_df)\n",
    "    hs_IR_const = extract_hominoid(IR_const, hs_alu_df)\n",
    "    \n",
    "    # Merge the data to identify non-human-specific (non-hs) and human-specific (hs) entries\n",
    "    merged_skippable = IR_skippable.merge(hs_IR_skippable, on=['downstream_alu_id', 'upstream_alu_id'], how='left', indicator=True).rename(columns={'downstream_alu_subfamily_x':'downstream_alu_subfamily','upstream_alu_subfamily_x':'upstream_alu_subfamily'})\n",
    "    merged_constitutive = IR_const.merge(hs_IR_const, on=['downstream_alu_id', 'upstream_alu_id'], how='left', indicator=True).rename(columns={'downstream_alu_subfamily_x':'downstream_alu_subfamily','upstream_alu_subfamily_x':'upstream_alu_subfamily'})\n",
    "    \n",
    "    # Filter non-human-specific entries\n",
    "    non_hs_skippable = merged_skippable[merged_skippable['_merge'] == 'left_only'].drop(columns=['_merge'])\n",
    "    non_hs_const = merged_constitutive[merged_constitutive['_merge'] == 'left_only'].drop(columns=['_merge'])\n",
    "    \n",
    "    return non_hs_skippable, non_hs_const, hs_IR_skippable, hs_IR_const\n",
    "\n",
    "def create_count_table_helper(non_hs_skippable, non_hs_const, hs_IR_skippable, hs_IR_const, count_function):\n",
    "    # Count occurrences for non-human-specific (non-hs) and human-specific (hs) data\n",
    "    non_hs_skippable_count = count_function(non_hs_skippable)\n",
    "    non_hs_const_count = count_function(non_hs_const)\n",
    "    hs_skippable_count = count_function(hs_IR_skippable)\n",
    "    hs_const_count = count_function(hs_IR_const)\n",
    "    \n",
    "    # Rename columns to reflect count categories\n",
    "    non_hs_skippable_count.rename(columns={'count': 'IR_skippable'}, inplace=True)\n",
    "    hs_skippable_count.rename(columns={'count': 'hs_IR_skippable'}, inplace=True)\n",
    "    non_hs_const_count.rename(columns={'count': 'IR_const'}, inplace=True)\n",
    "    hs_const_count.rename(columns={'count': 'hs_IR_const'}, inplace=True)\n",
    "    \n",
    "    # Join all counts into a single table\n",
    "    return non_hs_skippable_count.join(hs_skippable_count, how='outer').join(non_hs_const_count, how='outer').join(hs_const_count, how='outer').fillna(0)\n",
    "\n",
    "def create_count_table_single(new_data, window, hs_alu_df):\n",
    "    # Prepare data for skippable and constitutive IRs\n",
    "    non_hs_skippable, non_hs_const, hs_IR_skippable, hs_IR_const = prepare_data(new_data, window, hs_alu_df)\n",
    "    \n",
    "    # Use the helper function to generate the count table for Alu subfamilies\n",
    "    return create_count_table_helper(non_hs_skippable, non_hs_const, hs_IR_skippable, hs_IR_const, count_alu_subfamily)\n",
    "\n",
    "def create_count_table_pair(new_data, window, hs_alu_df):\n",
    "    # Prepare data for skippable and constitutive IRs\n",
    "    non_hs_skippable, non_hs_const, hs_IR_skippable, hs_IR_const = prepare_data(new_data, window, hs_alu_df)\n",
    "    \n",
    "    # Use the helper function to generate the count table for Alu pairs\n",
    "    return create_count_table_helper(non_hs_skippable, non_hs_const, hs_IR_skippable, hs_IR_const, count_alu_pair)\n",
    "\n",
    "def create_p_val_table(dataframe):\n",
    "    p_values = []\n",
    "    \n",
    "    for i, subfamily in enumerate(dataframe.index):\n",
    "        # Extract counts for the current subfamily across categories\n",
    "        values = dataframe.iloc[i].values\n",
    "        \n",
    "        # Create a 2x2 contingency table (for demonstration, split in half)\n",
    "        contingency_table = np.array([\n",
    "            [values[1], values[3]],\n",
    "            [values[0], values[2]]\n",
    "        ])\n",
    "        \n",
    "        # Perform chi-squared test\n",
    "        _, p_val = fisher_exact(contingency_table, alternative='greater')\n",
    "        p_values.append(p_val)\n",
    "\n",
    "    # Apply Bonferroni correction\n",
    "    bonferroni_corrected_p_values = [min(p * len(p_values), 1) for p in p_values]\n",
    "\n",
    "    # Create a DataFrame with results\n",
    "    return pd.DataFrame({\n",
    "        'Subfamily': dataframe.index,\n",
    "        'P_Value': p_values,\n",
    "        'Bonferroni_Corrected_P_Value': bonferroni_corrected_p_values\n",
    "    })\n",
    "\n",
    "def stack_p_tables(p_table):\n",
    "    stacked_table = pd.concat(\n",
    "                    [p_table[window][1].assign(window=window) for window in p_table.keys()]\n",
    "                    ).query(\"Bonferroni_Corrected_P_Value != 1.0\")\n",
    "    stacked_table[\"Subfamily\"] = stacked_table[\"Subfamily\"].astype('str')\n",
    "    \n",
    "    return stacked_table\n"
   ]
  },
  {
   "cell_type": "code",
   "execution_count": 26,
   "id": "34b92b28",
   "metadata": {},
   "outputs": [],
   "source": [
    "alu_cols       = ['chr', 'start', 'end', 'subfamily', 'id']\n",
    "\n",
    "hs_alu_file    = os.path.join(dataset_dir, \"liftover_total.tsv\")\n",
    "hs_alu_df      = pd.read_csv(hs_alu_file, sep='\\t', header=None, usecols=[0,1,2,3,4], names=alu_cols)\n",
    "\n",
    "closest_exon_to_alu_file = os.path.join(pickle_dir, \"240129-test_windows_subset.pkl\")\n",
    "closest_exon_to_alu_df = pd.read_pickle(closest_exon_to_alu_file)"
   ]
  },
  {
   "cell_type": "code",
   "execution_count": 25,
   "id": "d6629ac3",
   "metadata": {},
   "outputs": [],
   "source": [
    "result_single = {}\n",
    "result_pair   = {}\n",
    "\n",
    "windows = [500,1000,1500,2000,2500,3000,3500,4000,4500,5000]\n",
    "\n",
    "for window in windows:\n",
    "    count_table_single = create_count_table_single(closest_exon_to_alu_df, window, hs_alu_df)\n",
    "    result_table_single = create_p_val_table(count_table_single)\n",
    "    result_single[window] = [count_table_single, result_table_single]\n",
    "    \n",
    "    count_table_pair = create_count_table_pair(closest_exon_to_alu_df, window, hs_alu_df)\n",
    "    result_table_pair = create_p_val_table(count_table_pair)\n",
    "    result_pair[window] = [count_table_pair, result_table_pair]\n",
    "    \n",
    "enrichment_single = stack_p_tables(result_single)\n",
    "enrichment_pair   = stack_p_tables(result_pair)"
   ]
  },
  {
   "cell_type": "code",
   "execution_count": 27,
   "id": "baa11505",
   "metadata": {},
   "outputs": [
    {
     "name": "stderr",
     "output_type": "stream",
     "text": [
      "/var/folders/b9/2y20mh5s2yd2qvr04y0hh8bh0000gn/T/ipykernel_53707/1221205494.py:25: UserWarning: The palette list has more values (10) than needed (8), which may not be intended.\n",
      "  sns.swarmplot(x=x_col, y=\"bonferroni_p_greater_neglog10\", hue=\"window\", s=7, dodge=False,\n",
      "/var/folders/b9/2y20mh5s2yd2qvr04y0hh8bh0000gn/T/ipykernel_53707/1221205494.py:28: UserWarning: FixedFormatter should only be used together with FixedLocator\n",
      "  ax.set_xticklabels(ax.get_xticklabels(), rotation=45)\n",
      "/var/folders/b9/2y20mh5s2yd2qvr04y0hh8bh0000gn/T/ipykernel_53707/1221205494.py:25: UserWarning: The palette list has more values (10) than needed (7), which may not be intended.\n",
      "  sns.swarmplot(x=x_col, y=\"bonferroni_p_greater_neglog10\", hue=\"window\", s=7, dodge=False,\n",
      "/var/folders/b9/2y20mh5s2yd2qvr04y0hh8bh0000gn/T/ipykernel_53707/1221205494.py:28: UserWarning: FixedFormatter should only be used together with FixedLocator\n",
      "  ax.set_xticklabels(ax.get_xticklabels(), rotation=45)\n"
     ]
    },
    {
     "data": {
      "image/png": "[encoded data removed]",
      "text/plain": [
       "<Figure size 432x288 with 2 Axes>"
      ]
     },
     "metadata": {
      "needs_background": "light"
     },
     "output_type": "display_data"
    }
   ],
   "source": [
    "width_ratios = [2, 0.5]\n",
    "fig, axs = plt.subplots(1, 2, figsize=(6,4), gridspec_kw={'width_ratios': width_ratios, 'hspace': 0.25, 'wspace': 0.4})\n",
    "\n",
    "swarmplot_p_values(enrichment_single, title=None, log=True, legend=False, ax=axs[0])\n",
    "swarmplot_p_values(enrichment_pair, title=None, log=True, use_string=True, legend=True, legend_pos=\"right\", ylabel=False, ax=axs[1])\n",
    "#plt.savefig('./Figure3d.svg', format=\"svg\")\n",
    "plt.show()"
   ]
  }
 ],
 "metadata": {
  "kernelspec": {
   "display_name": "Python 3 (ipykernel)",
   "language": "python",
   "name": "python3"
  },
  "language_info": {
   "codemirror_mode": {
    "name": "ipython",
    "version": 3
   },
   "file_extension": ".py",
   "mimetype": "text/x-python",
   "name": "python",
   "nbconvert_exporter": "python",
   "pygments_lexer": "ipython3",
   "version": "3.9.13"
  }
 },
 "nbformat": 4,
 "nbformat_minor": 5
}
